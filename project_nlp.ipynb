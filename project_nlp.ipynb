{
  "nbformat": 4,
  "nbformat_minor": 0,
  "metadata": {
    "kernelspec": {
      "display_name": "Python 3",
      "language": "python",
      "name": "python3"
    },
    "language_info": {
      "codemirror_mode": {
        "name": "ipython",
        "version": 3
      },
      "file_extension": ".py",
      "mimetype": "text/x-python",
      "name": "python",
      "nbconvert_exporter": "python",
      "pygments_lexer": "ipython3",
      "version": "3.8.3"
    },
    "colab": {
      "name": "project_nlp.ipynb",
      "provenance": [],
      "collapsed_sections": [],
      "toc_visible": true
    }
  },
  "cells": [
    {
      "cell_type": "markdown",
      "metadata": {
        "id": "Ii3nZJ6q0xpV"
      },
      "source": [
        "##  <center>SENTIMENT ANALYSIS OF AMAZON PRODUCT REVIEW</center>\n",
        "### <center> Condoris Dimitri & Moalla Elias</center>"
      ]
    },
    {
      "cell_type": "markdown",
      "metadata": {
        "id": "7rxPs0510xpX"
      },
      "source": [
        "### Introduction.\n",
        "\n",
        "It is interesting to study Amazon product reviews on the internet as it might lead to interesting concrete applications. Indeed, if we can predict the sentiment of a particular user over a particular product, we can provide better services and more specific advertisings hence redirecting users to more valuable content (for them) faster. To test out our sentiment analysis method, we used the dataset from the following kaggle link: https://www.kaggle.com/sid321axn/amazon-alexa-reviews. This dataset contains thousands of Amazon customers reviews for Alexa Echo, Firestick, Echo Dot and similar products.\n",
        "\n",
        "One could wonder why we would make such a model (saying if a review has a positive sentiment or a negative sentiment) when users can already leave star ratings for each of the product. The answer to this is that the model is mainly developed to extract features from the product that gives the positive sentiment for users allowing us to expose how good a product is to a certain demand using its description and those extracted textual features. This can therefore allow a website such as amazon to create faster and more pertinent searching bars conducting to a better user experience on the platform overall."
      ]
    },
    {
      "cell_type": "markdown",
      "metadata": {
        "id": "c3xrjYmy0xpY"
      },
      "source": [
        "### Plan\n",
        "\n",
        "The plan will here to first preprocess the data to make the usable before testing models with simple Tfid transforms. Then we will test out models based on the FastTest embedding method and classifier and lastly we will test out the FastTest embedding method with other classiers such as those used in the first part of the experiments. We will then draw results and explain what could be done afterward."
      ]
    },
    {
      "cell_type": "markdown",
      "metadata": {
        "id": "1ZSUMKQZ0xpZ"
      },
      "source": [
        "### Loading used libraries."
      ]
    },
    {
      "cell_type": "code",
      "metadata": {
        "id": "lTV3FP8P0xpZ"
      },
      "source": [
        "import numpy as np\n",
        "import pandas as pd \n",
        "import seaborn as sns\n",
        "import matplotlib.pyplot as plt\n",
        "import re\n",
        "import nltk\n",
        "\n",
        "from wordcloud import WordCloud, STOPWORDS, ImageColorGenerator\n",
        "from nltk.stem import WordNetLemmatizer\n",
        "from nltk.stem.porter import *\n",
        "from nltk.tokenize import word_tokenize\n",
        "from nltk.probability import FreqDist\n",
        "from gensim.models import Word2Vec\n",
        "from sklearn.feature_extraction.text import TfidfVectorizer\n",
        "from sklearn.model_selection import train_test_split\n",
        "from sklearn.model_selection import GridSearchCV\n",
        "from sklearn.naive_bayes import MultinomialNB\n",
        "from sklearn.metrics import f1_score\n",
        "from sklearn import svm\n",
        "from sklearn.naive_bayes import MultinomialNB\n",
        "from sklearn.linear_model import LogisticRegression\n",
        "from tqdm import tqdm"
      ],
      "execution_count": 1,
      "outputs": []
    },
    {
      "cell_type": "markdown",
      "metadata": {
        "id": "VNSGOv3u0xpb"
      },
      "source": [
        "### Data preparation."
      ]
    },
    {
      "cell_type": "code",
      "metadata": {
        "colab": {
          "base_uri": "https://localhost:8080/"
        },
        "id": "OUvFjExY0xpc",
        "outputId": "c8b32bbb-4772-405b-e85d-49beb3a8c9b6"
      },
      "source": [
        "# We launch this command to download the database directly from the git repository.\n",
        "\n",
        "!wget https://raw.githubusercontent.com/dcondoris/nlpp/main/amazon_alexa.tsv"
      ],
      "execution_count": 7,
      "outputs": [
        {
          "output_type": "stream",
          "text": [
            "--2021-04-24 12:24:03--  https://raw.githubusercontent.com/dcondoris/nlpp/main/amazon_alexa.tsv\n",
            "Resolving raw.githubusercontent.com (raw.githubusercontent.com)... 185.199.108.133, 185.199.109.133, 185.199.110.133, ...\n",
            "Connecting to raw.githubusercontent.com (raw.githubusercontent.com)|185.199.108.133|:443... connected.\n",
            "HTTP request sent, awaiting response... 200 OK\n",
            "Length: 514752 (503K) [text/plain]\n",
            "Saving to: ‘amazon_alexa.tsv.1’\n",
            "\n",
            "amazon_alexa.tsv.1  100%[===================>] 502.69K  --.-KB/s    in 0.03s   \n",
            "\n",
            "2021-04-24 12:24:04 (15.9 MB/s) - ‘amazon_alexa.tsv.1’ saved [514752/514752]\n",
            "\n"
          ],
          "name": "stdout"
        }
      ]
    },
    {
      "cell_type": "code",
      "metadata": {
        "id": "NpboZ_8X0xpc"
      },
      "source": [
        "df = pd.read_csv('amazon_alexa.tsv', delimiter = '\\t')"
      ],
      "execution_count": 10,
      "outputs": []
    },
    {
      "cell_type": "code",
      "metadata": {
        "colab": {
          "base_uri": "https://localhost:8080/",
          "height": 198
        },
        "id": "Pu2HeAuF0xpc",
        "outputId": "afebc14a-a852-482a-eeb5-37dd433708f1"
      },
      "source": [
        "df.head()"
      ],
      "execution_count": 11,
      "outputs": [
        {
          "output_type": "execute_result",
          "data": {
            "text/html": [
              "<div>\n",
              "<style scoped>\n",
              "    .dataframe tbody tr th:only-of-type {\n",
              "        vertical-align: middle;\n",
              "    }\n",
              "\n",
              "    .dataframe tbody tr th {\n",
              "        vertical-align: top;\n",
              "    }\n",
              "\n",
              "    .dataframe thead th {\n",
              "        text-align: right;\n",
              "    }\n",
              "</style>\n",
              "<table border=\"1\" class=\"dataframe\">\n",
              "  <thead>\n",
              "    <tr style=\"text-align: right;\">\n",
              "      <th></th>\n",
              "      <th>rating</th>\n",
              "      <th>date</th>\n",
              "      <th>variation</th>\n",
              "      <th>verified_reviews</th>\n",
              "      <th>feedback</th>\n",
              "    </tr>\n",
              "  </thead>\n",
              "  <tbody>\n",
              "    <tr>\n",
              "      <th>0</th>\n",
              "      <td>5</td>\n",
              "      <td>31-Jul-18</td>\n",
              "      <td>Charcoal Fabric</td>\n",
              "      <td>Love my Echo!</td>\n",
              "      <td>1</td>\n",
              "    </tr>\n",
              "    <tr>\n",
              "      <th>1</th>\n",
              "      <td>5</td>\n",
              "      <td>31-Jul-18</td>\n",
              "      <td>Charcoal Fabric</td>\n",
              "      <td>Loved it!</td>\n",
              "      <td>1</td>\n",
              "    </tr>\n",
              "    <tr>\n",
              "      <th>2</th>\n",
              "      <td>4</td>\n",
              "      <td>31-Jul-18</td>\n",
              "      <td>Walnut Finish</td>\n",
              "      <td>Sometimes while playing a game, you can answer...</td>\n",
              "      <td>1</td>\n",
              "    </tr>\n",
              "    <tr>\n",
              "      <th>3</th>\n",
              "      <td>5</td>\n",
              "      <td>31-Jul-18</td>\n",
              "      <td>Charcoal Fabric</td>\n",
              "      <td>I have had a lot of fun with this thing. My 4 ...</td>\n",
              "      <td>1</td>\n",
              "    </tr>\n",
              "    <tr>\n",
              "      <th>4</th>\n",
              "      <td>5</td>\n",
              "      <td>31-Jul-18</td>\n",
              "      <td>Charcoal Fabric</td>\n",
              "      <td>Music</td>\n",
              "      <td>1</td>\n",
              "    </tr>\n",
              "  </tbody>\n",
              "</table>\n",
              "</div>"
            ],
            "text/plain": [
              "   rating  ... feedback\n",
              "0       5  ...        1\n",
              "1       5  ...        1\n",
              "2       4  ...        1\n",
              "3       5  ...        1\n",
              "4       5  ...        1\n",
              "\n",
              "[5 rows x 5 columns]"
            ]
          },
          "metadata": {
            "tags": []
          },
          "execution_count": 11
        }
      ]
    },
    {
      "cell_type": "markdown",
      "metadata": {
        "id": "YKSZ8hUE0xpd"
      },
      "source": [
        "Our sentiment column (which will be what we try to predict) is the $\\textit{feedback}$ column where 1 means that the sentiment is positive and 0 means that the sentiment is negative, the design of this column is pretty simple: if the rating is over (or equal to) 3, the sentiment is positive, else, it is negative."
      ]
    },
    {
      "cell_type": "code",
      "metadata": {
        "id": "8d5CTTQE0xpd"
      },
      "source": [
        "variation = df.variation\n",
        "X = df.verified_reviews\n",
        "y = df.feedback\n",
        "X_train, X_test, y_train, y_test = train_test_split(X, y, test_size = 0.30, random_state = 55)"
      ],
      "execution_count": 13,
      "outputs": []
    },
    {
      "cell_type": "code",
      "metadata": {
        "colab": {
          "base_uri": "https://localhost:8080/"
        },
        "id": "8cMkyJKW0xpe",
        "outputId": "f97b4087-2016-427f-b538-0b8cbe353785"
      },
      "source": [
        "print(X_train.shape)\n",
        "print(X_test.shape)"
      ],
      "execution_count": 14,
      "outputs": [
        {
          "output_type": "stream",
          "text": [
            "(2205,)\n",
            "(945,)\n"
          ],
          "name": "stdout"
        }
      ]
    },
    {
      "cell_type": "code",
      "metadata": {
        "colab": {
          "base_uri": "https://localhost:8080/"
        },
        "id": "_HknduJP0xpe",
        "outputId": "00106e2e-ddaa-4ea2-95b0-338e97c001d8"
      },
      "source": [
        "print(X_train)"
      ],
      "execution_count": 15,
      "outputs": [
        {
          "output_type": "stream",
          "text": [
            "2722                                         Works great!\n",
            "38      This thing is way cool!  You should get one.  ...\n",
            "3145    Perfect for kids, adults and everyone in betwe...\n",
            "1637    The ability to respond with the accuracy and v...\n",
            "86                                            Clear music\n",
            "                              ...                        \n",
            "2589    Not all that happy. The speaker isn’t great an...\n",
            "968                                              Love it!\n",
            "295     Easy to use and has great sound...It was a gre...\n",
            "666                                        It was perfect\n",
            "461                                              Love it!\n",
            "Name: verified_reviews, Length: 2205, dtype: object\n"
          ],
          "name": "stdout"
        }
      ]
    },
    {
      "cell_type": "code",
      "metadata": {
        "colab": {
          "base_uri": "https://localhost:8080/"
        },
        "id": "u3KzANJm0xpf",
        "outputId": "9927531e-c0d3-4e7b-f3db-d3ad75edf68e"
      },
      "source": [
        "print(X_test)"
      ],
      "execution_count": 16,
      "outputs": [
        {
          "output_type": "stream",
          "text": [
            "497     I have 3-Dots and 2-Original and this new one ...\n",
            "790     We like it all so far, but have a lot to try o...\n",
            "376     Doesn't always respond when spoken to with pro...\n",
            "549     cant seem to get this thing to sink with my wi...\n",
            "206     We are still discovering all that the Echo can...\n",
            "                              ...                        \n",
            "33      The speakers sound pretty good for being so sm...\n",
            "491                             I've already returned it.\n",
            "2849    I like it alot. I connected it so I can play m...\n",
            "556     Not substitute for the original.  The echo dot...\n",
            "333                                               Love it\n",
            "Name: verified_reviews, Length: 945, dtype: object\n"
          ],
          "name": "stdout"
        }
      ]
    },
    {
      "cell_type": "markdown",
      "metadata": {
        "id": "8DLJ0FiC0xpf"
      },
      "source": [
        "### Descriptive statistics."
      ]
    },
    {
      "cell_type": "code",
      "metadata": {
        "colab": {
          "base_uri": "https://localhost:8080/",
          "height": 198
        },
        "id": "2TWLzecr0xpf",
        "outputId": "6f58caa9-ada2-4bbc-f3cf-dd175c6ac249"
      },
      "source": [
        "df_train = df.iloc[X_train.index]\n",
        "df_test = df.iloc[X_test.index]\n",
        "df_train.head()"
      ],
      "execution_count": 17,
      "outputs": [
        {
          "output_type": "execute_result",
          "data": {
            "text/html": [
              "<div>\n",
              "<style scoped>\n",
              "    .dataframe tbody tr th:only-of-type {\n",
              "        vertical-align: middle;\n",
              "    }\n",
              "\n",
              "    .dataframe tbody tr th {\n",
              "        vertical-align: top;\n",
              "    }\n",
              "\n",
              "    .dataframe thead th {\n",
              "        text-align: right;\n",
              "    }\n",
              "</style>\n",
              "<table border=\"1\" class=\"dataframe\">\n",
              "  <thead>\n",
              "    <tr style=\"text-align: right;\">\n",
              "      <th></th>\n",
              "      <th>rating</th>\n",
              "      <th>date</th>\n",
              "      <th>variation</th>\n",
              "      <th>verified_reviews</th>\n",
              "      <th>feedback</th>\n",
              "    </tr>\n",
              "  </thead>\n",
              "  <tbody>\n",
              "    <tr>\n",
              "      <th>2722</th>\n",
              "      <td>5</td>\n",
              "      <td>30-Jul-18</td>\n",
              "      <td>Black  Dot</td>\n",
              "      <td>Works great!</td>\n",
              "      <td>1</td>\n",
              "    </tr>\n",
              "    <tr>\n",
              "      <th>38</th>\n",
              "      <td>5</td>\n",
              "      <td>30-Jul-18</td>\n",
              "      <td>Charcoal Fabric</td>\n",
              "      <td>This thing is way cool!  You should get one.  ...</td>\n",
              "      <td>1</td>\n",
              "    </tr>\n",
              "    <tr>\n",
              "      <th>3145</th>\n",
              "      <td>5</td>\n",
              "      <td>30-Jul-18</td>\n",
              "      <td>Black  Dot</td>\n",
              "      <td>Perfect for kids, adults and everyone in betwe...</td>\n",
              "      <td>1</td>\n",
              "    </tr>\n",
              "    <tr>\n",
              "      <th>1637</th>\n",
              "      <td>3</td>\n",
              "      <td>29-Jul-18</td>\n",
              "      <td>White  Show</td>\n",
              "      <td>The ability to respond with the accuracy and v...</td>\n",
              "      <td>1</td>\n",
              "    </tr>\n",
              "    <tr>\n",
              "      <th>86</th>\n",
              "      <td>5</td>\n",
              "      <td>30-Jul-18</td>\n",
              "      <td>Charcoal Fabric</td>\n",
              "      <td>Clear music</td>\n",
              "      <td>1</td>\n",
              "    </tr>\n",
              "  </tbody>\n",
              "</table>\n",
              "</div>"
            ],
            "text/plain": [
              "      rating  ... feedback\n",
              "2722       5  ...        1\n",
              "38         5  ...        1\n",
              "3145       5  ...        1\n",
              "1637       3  ...        1\n",
              "86         5  ...        1\n",
              "\n",
              "[5 rows x 5 columns]"
            ]
          },
          "metadata": {
            "tags": []
          },
          "execution_count": 17
        }
      ]
    },
    {
      "cell_type": "code",
      "metadata": {
        "id": "4SbOqx090xpf"
      },
      "source": [
        "X_train = list(X_train)\n",
        "X_test = list(X_test)\n",
        "y_train = list(y_train)\n",
        "y_test = list(y_test)"
      ],
      "execution_count": 18,
      "outputs": []
    },
    {
      "cell_type": "code",
      "metadata": {
        "colab": {
          "base_uri": "https://localhost:8080/",
          "height": 138
        },
        "id": "M4ABmU5A0xpg",
        "outputId": "84b170bd-57a8-437c-e0e7-737ad810ae92"
      },
      "source": [
        "df_train.groupby('feedback').count()"
      ],
      "execution_count": 19,
      "outputs": [
        {
          "output_type": "execute_result",
          "data": {
            "text/html": [
              "<div>\n",
              "<style scoped>\n",
              "    .dataframe tbody tr th:only-of-type {\n",
              "        vertical-align: middle;\n",
              "    }\n",
              "\n",
              "    .dataframe tbody tr th {\n",
              "        vertical-align: top;\n",
              "    }\n",
              "\n",
              "    .dataframe thead th {\n",
              "        text-align: right;\n",
              "    }\n",
              "</style>\n",
              "<table border=\"1\" class=\"dataframe\">\n",
              "  <thead>\n",
              "    <tr style=\"text-align: right;\">\n",
              "      <th></th>\n",
              "      <th>rating</th>\n",
              "      <th>date</th>\n",
              "      <th>variation</th>\n",
              "      <th>verified_reviews</th>\n",
              "    </tr>\n",
              "    <tr>\n",
              "      <th>feedback</th>\n",
              "      <th></th>\n",
              "      <th></th>\n",
              "      <th></th>\n",
              "      <th></th>\n",
              "    </tr>\n",
              "  </thead>\n",
              "  <tbody>\n",
              "    <tr>\n",
              "      <th>0</th>\n",
              "      <td>163</td>\n",
              "      <td>163</td>\n",
              "      <td>163</td>\n",
              "      <td>163</td>\n",
              "    </tr>\n",
              "    <tr>\n",
              "      <th>1</th>\n",
              "      <td>2042</td>\n",
              "      <td>2042</td>\n",
              "      <td>2042</td>\n",
              "      <td>2042</td>\n",
              "    </tr>\n",
              "  </tbody>\n",
              "</table>\n",
              "</div>"
            ],
            "text/plain": [
              "          rating  date  variation  verified_reviews\n",
              "feedback                                           \n",
              "0            163   163        163               163\n",
              "1           2042  2042       2042              2042"
            ]
          },
          "metadata": {
            "tags": []
          },
          "execution_count": 19
        }
      ]
    },
    {
      "cell_type": "markdown",
      "metadata": {
        "id": "nUiOIRR00xpg"
      },
      "source": [
        "We directly see that there are way more positive reviews than negative reviews, the accuracy score will therefore be biased as predicting only positive reviews will lead to a 100x2042/2205 = 92.6% accuracy (hence why using the F1-score will be extremly important here)."
      ]
    },
    {
      "cell_type": "code",
      "metadata": {
        "id": "lKAxxV-a0xpg"
      },
      "source": [
        "df_train_positive = df_train[df_train['feedback'] == 1]\n",
        "df_train_negative = df_train[df_train['feedback'] == 0]"
      ],
      "execution_count": 20,
      "outputs": []
    },
    {
      "cell_type": "code",
      "metadata": {
        "colab": {
          "base_uri": "https://localhost:8080/"
        },
        "id": "yNzqLrif1zF9",
        "outputId": "463da6e8-6fb2-4123-aff2-3ab72ca82bdb"
      },
      "source": [
        "nltk.download('punkt')"
      ],
      "execution_count": 22,
      "outputs": [
        {
          "output_type": "stream",
          "text": [
            "[nltk_data] Downloading package punkt to /root/nltk_data...\n",
            "[nltk_data]   Unzipping tokenizers/punkt.zip.\n"
          ],
          "name": "stdout"
        },
        {
          "output_type": "execute_result",
          "data": {
            "text/plain": [
              "True"
            ]
          },
          "metadata": {
            "tags": []
          },
          "execution_count": 22
        }
      ]
    },
    {
      "cell_type": "code",
      "metadata": {
        "id": "oErozJde0xph"
      },
      "source": [
        "word_positive = ''.join(df_train_positive['verified_reviews'])\n",
        "word_negative = ''.join(df_train_negative['verified_reviews'])\n",
        "\n",
        "tokenized_word_positive = word_tokenize(word_positive) # We joint every reviews of each feedback\n",
        "tokenized_word_negative = word_tokenize(word_negative)"
      ],
      "execution_count": 23,
      "outputs": []
    },
    {
      "cell_type": "code",
      "metadata": {
        "colab": {
          "base_uri": "https://localhost:8080/"
        },
        "id": "obteXVL60xph",
        "outputId": "6cf73bff-024c-41b7-eab7-ec5771435c36"
      },
      "source": [
        "fdist_positive = FreqDist(tokenized_word_positive) # We create the dictionary of word frequencies\n",
        "fdist_negative = FreqDist(tokenized_word_negative)\n",
        "\n",
        "print(fdist_positive.most_common(10)) # We check which words are the most common\n",
        "print(fdist_negative.most_common(10))"
      ],
      "execution_count": 24,
      "outputs": [
        {
          "output_type": "stream",
          "text": [
            "[('.', 2268), ('the', 1775), ('to', 1737), ('I', 1675), ('and', 1413), ('it', 1381), (',', 1350), ('!', 907), ('a', 901), ('my', 827)]\n",
            "[('.', 322), ('the', 273), ('to', 238), ('I', 213), (',', 197), ('it', 170), ('and', 162), ('a', 154), ('is', 115), ('of', 81)]\n"
          ],
          "name": "stdout"
        }
      ]
    },
    {
      "cell_type": "markdown",
      "metadata": {
        "id": "FH2CY6xL0xph"
      },
      "source": [
        "The most negative words are parasited by the common words of every text such as 'the', 'to', '.', etc... We therefore use a stopword set."
      ]
    },
    {
      "cell_type": "code",
      "metadata": {
        "id": "uF5iIlFv0xpi"
      },
      "source": [
        "stopword = set(STOPWORDS)\n",
        "stopword.update(['I', '.', '!', '?', ',', '’', 'Alexa', 'Amazon', 'Echo', 'echo'])"
      ],
      "execution_count": 25,
      "outputs": []
    },
    {
      "cell_type": "code",
      "metadata": {
        "id": "v5fMo1P_0xpi"
      },
      "source": [
        "tokenized_word_positive = [w for w in tokenized_word_positive if w not in stopword]\n",
        "tokenized_word_negative = [w for w in tokenized_word_negative if w not in stopword]"
      ],
      "execution_count": 26,
      "outputs": []
    },
    {
      "cell_type": "code",
      "metadata": {
        "colab": {
          "base_uri": "https://localhost:8080/"
        },
        "id": "uPYKZLH60xpi",
        "outputId": "fee72891-4896-4df9-f728-67aab508af18"
      },
      "source": [
        "fdist_positive = FreqDist(tokenized_word_positive) # We create the dictionary of word frequencies\n",
        "fdist_negative = FreqDist(tokenized_word_negative)\n",
        "\n",
        "print(fdist_positive.most_common(10)) # We check which words are the most common\n",
        "print(fdist_negative.most_common(10))"
      ],
      "execution_count": 27,
      "outputs": [
        {
          "output_type": "stream",
          "text": [
            "[('love', 388), ('great', 330), ('music', 308), ('use', 284), ('It', 240), (\"n't\", 233), ('one', 208), (\"'s\", 203), ('set', 191), ('The', 180)]\n",
            "[(\"n't\", 56), ('device', 43), ('t', 42), ('work', 30), ('The', 26), ('It', 25), (\"'s\", 22), ('use', 22), ('product', 21), ('screen', 21)]\n"
          ],
          "name": "stdout"
        }
      ]
    },
    {
      "cell_type": "code",
      "metadata": {
        "colab": {
          "base_uri": "https://localhost:8080/",
          "height": 198
        },
        "id": "UFe75afg0xpj",
        "outputId": "e3007158-ca41-46aa-bef7-83e179a8ef26"
      },
      "source": [
        "wordcloud_pos = WordCloud(stopwords = stopword, max_font_size = 100, max_words = 100, background_color = 'white')\\\n",
        "                .generate(word_positive)\n",
        "plt.figure()\n",
        "plt.imshow(wordcloud_pos, interpolation = 'bilinear')\n",
        "plt.axis('off')\n",
        "plt.show()"
      ],
      "execution_count": 28,
      "outputs": [
        {
          "output_type": "display_data",
          "data": {
            "image/png": "[encoded data removed]",
            "text/plain": [
              "<Figure size 432x288 with 1 Axes>"
            ]
          },
          "metadata": {
            "tags": [],
            "needs_background": "light"
          }
        }
      ]
    },
    {
      "cell_type": "code",
      "metadata": {
        "colab": {
          "base_uri": "https://localhost:8080/",
          "height": 198
        },
        "id": "KongLa1x0xpj",
        "outputId": "94565b3b-b740-4139-8b06-d20be6a1f68d"
      },
      "source": [
        "wordcloud_neg = WordCloud(stopwords = stopword, max_font_size = 100, max_words = 100, background_color = 'white')\\\n",
        "                .generate(word_negative)\n",
        "plt.figure()\n",
        "plt.imshow(wordcloud_neg, interpolation = 'bilinear')\n",
        "plt.axis('off')\n",
        "plt.show()"
      ],
      "execution_count": 29,
      "outputs": [
        {
          "output_type": "display_data",
          "data": {
            "image/png": "[encoded data removed]",
            "text/plain": [
              "<Figure size 432x288 with 1 Axes>"
            ]
          },
          "metadata": {
            "tags": [],
            "needs_background": "light"
          }
        }
      ]
    },
    {
      "cell_type": "code",
      "metadata": {
        "colab": {
          "base_uri": "https://localhost:8080/",
          "height": 325
        },
        "id": "5WNLmnMI0xpj",
        "outputId": "71bf431e-28d8-471d-d9fa-66ac1ff55327"
      },
      "source": [
        "fdist_negative.plot(30, cumulative = False, title = \"Most frequent words for negative reviews\")\n",
        "plt.show()"
      ],
      "execution_count": 30,
      "outputs": [
        {
          "output_type": "display_data",
          "data": {
            "image/png": "[encoded data removed]",
            "text/plain": [
              "<Figure size 432x288 with 1 Axes>"
            ]
          },
          "metadata": {
            "tags": [],
            "needs_background": "light"
          }
        }
      ]
    },
    {
      "cell_type": "code",
      "metadata": {
        "colab": {
          "base_uri": "https://localhost:8080/",
          "height": 325
        },
        "id": "WhpCi4mx0xpk",
        "outputId": "5edb33ad-a876-4417-e33e-25ddc26f3774"
      },
      "source": [
        "fdist_positive.plot(30, cumulative = False, title = \"Most frequent words for positive reviews\")\n",
        "plt.show()"
      ],
      "execution_count": 31,
      "outputs": [
        {
          "output_type": "display_data",
          "data": {
            "image/png": "[encoded data removed]",
            "text/plain": [
              "<Figure size 432x288 with 1 Axes>"
            ]
          },
          "metadata": {
            "tags": [],
            "needs_background": "light"
          }
        }
      ]
    },
    {
      "cell_type": "markdown",
      "metadata": {
        "id": "uHReQ_pB0xpk"
      },
      "source": [
        "We can see that the Zipf's law is kind of verified. Using both results, we can conclude that raw classification using hand crafted feature extraction will be hard and will not lead to performing results as the most present words are common and the lesser common ones not really expressive of a sentiment (apart from 'love', 'easy', 'great' and 'good'). This might come from the fact that as users are generally well educated, they will express negative reviews without using harsh words such as 'hate', 'bad' or 'awful'."
      ]
    },
    {
      "cell_type": "markdown",
      "metadata": {
        "id": "DBLg7ylT0xpk"
      },
      "source": [
        "Yet, this phenomenon might not be observable right now because of all the words that give no information such as 'it', 't' or even 'n't'. To complete the treatment of the reviews, we will therefore perform better tokenization eliminating such words using the lemmatization procedure."
      ]
    },
    {
      "cell_type": "markdown",
      "metadata": {
        "id": "UpkBKtoY0xpl"
      },
      "source": [
        "### Data preprocessing."
      ]
    },
    {
      "cell_type": "markdown",
      "metadata": {
        "id": "eUnJ0Olg0xpl"
      },
      "source": [
        "Here, the only particular things we can observe in the dataset is the presence of emojis, this is what we mainly have to remove before doing the classical sentence preprocessing to obtain tokens."
      ]
    },
    {
      "cell_type": "code",
      "metadata": {
        "id": "qetqqIt-0xpl"
      },
      "source": [
        "X_train = [str(x.encode(\"ascii\", \"ignore\"))[2:-1] for x in X_train] # Some reviews have emojis\n",
        "X_test = [str(x.encode(\"ascii\", \"ignore\"))[2:-1] for x in X_test]"
      ],
      "execution_count": 32,
      "outputs": []
    },
    {
      "cell_type": "code",
      "metadata": {
        "id": "ULYYdt0p0xpl"
      },
      "source": [
        "n_train = len(X_train)\n",
        "n_test = len(X_test)\n",
        "X_train_e = [x for x in X_train if x != ' ' and x != '']\n",
        "X_test_e = [x for x in X_test if x != ' ' and x != '']\n",
        "y_train_e = [y_train[i] for i in range(n_train) if X_train[i] != ' ' and X_train[i] != '']\n",
        "y_test_e = [y_test[i] for i in range(n_test) if X_test[i] != ' ' and X_test[i] != '']"
      ],
      "execution_count": 33,
      "outputs": []
    },
    {
      "cell_type": "code",
      "metadata": {
        "id": "sUdJOjWH0xpm"
      },
      "source": [
        "index_fixed_train = []\n",
        "index_fixed_test = []\n",
        "\n",
        "for i in range(df_train.shape[0]):\n",
        "    if X_train[i] != '' and X_train[i] != ' ':\n",
        "        index_fixed_train.append(i)\n",
        "        \n",
        "for i in range(df_test.shape[0]):\n",
        "    if X_test[i] != '' and X_test[i] != ' ':\n",
        "        index_fixed_test.append(i)"
      ],
      "execution_count": 34,
      "outputs": []
    },
    {
      "cell_type": "code",
      "metadata": {
        "colab": {
          "base_uri": "https://localhost:8080/"
        },
        "id": "w6T_1fC019Gs",
        "outputId": "eab47d94-0872-4b2d-bc32-98359e62b5f9"
      },
      "source": [
        "nltk.download('wordnet')"
      ],
      "execution_count": 36,
      "outputs": [
        {
          "output_type": "stream",
          "text": [
            "[nltk_data] Downloading package wordnet to /root/nltk_data...\n",
            "[nltk_data]   Unzipping corpora/wordnet.zip.\n"
          ],
          "name": "stdout"
        },
        {
          "output_type": "execute_result",
          "data": {
            "text/plain": [
              "True"
            ]
          },
          "metadata": {
            "tags": []
          },
          "execution_count": 36
        }
      ]
    },
    {
      "cell_type": "code",
      "metadata": {
        "colab": {
          "base_uri": "https://localhost:8080/"
        },
        "id": "IFGvmge40xpm",
        "outputId": "e06df3c6-c2b1-488e-a07f-6299b9a9e058"
      },
      "source": [
        "corpus_train = []\n",
        "list_train = X_train_e\n",
        "n = len(list_train)\n",
        "for i in tqdm(range(n)):\n",
        "    review = re.sub(\"<.*?>\", \"\", list_train[i])\n",
        "    review = re.sub('[^a-zA-Z]', ' ', review)\n",
        "    review = review.lower()\n",
        "    review = review.split()\n",
        "    ps = PorterStemmer()\n",
        "    lemmatizer = WordNetLemmatizer()\n",
        "    review = [ps.stem(words) for words in review if not words in stopword]\n",
        "    review = [lemmatizer.lemmatize(words) for words in review if not words in stopword]\n",
        "    review = ' '.join(review)\n",
        "    corpus_train.append(review)"
      ],
      "execution_count": 37,
      "outputs": [
        {
          "output_type": "stream",
          "text": [
            "100%|██████████| 2142/2142 [00:02<00:00, 803.27it/s]\n"
          ],
          "name": "stderr"
        }
      ]
    },
    {
      "cell_type": "code",
      "metadata": {
        "colab": {
          "base_uri": "https://localhost:8080/"
        },
        "id": "wNgW_Ssb0xpn",
        "outputId": "5a3a6d7f-9a51-49d1-cfe8-837d50a6eda9"
      },
      "source": [
        "corpus_test = []\n",
        "list_test = X_test_e\n",
        "n = len(list_test)\n",
        "for i in tqdm(range(n)):\n",
        "    review = re.sub(\"<.*?>\", \"\", list_test[i])\n",
        "    review = re.sub('[^a-zA-Z]', ' ', review)\n",
        "    review = review.lower()\n",
        "    review = review.split()\n",
        "    ps = PorterStemmer()\n",
        "    lemmatizer = WordNetLemmatizer()\n",
        "    review = [ps.stem(words) for words in review if not words in stopword]\n",
        "    review = [lemmatizer.lemmatize(words) for words in review if not words in stopword]\n",
        "    review = ' '.join(review)\n",
        "    corpus_test.append(review)"
      ],
      "execution_count": 38,
      "outputs": [
        {
          "output_type": "stream",
          "text": [
            "100%|██████████| 924/924 [00:00<00:00, 2623.65it/s]\n"
          ],
          "name": "stderr"
        }
      ]
    },
    {
      "cell_type": "code",
      "metadata": {
        "id": "cex4yWBK0xpn"
      },
      "source": [
        "df_train = df_train.iloc[index_fixed_train]\n",
        "df_test = df_test.iloc[index_fixed_test]"
      ],
      "execution_count": 39,
      "outputs": []
    },
    {
      "cell_type": "code",
      "metadata": {
        "id": "q0g1YGPc0xpo"
      },
      "source": [
        "df_train['verified_reviews_treated'] = corpus_train\n",
        "df_test['verified_reviews_treated'] = corpus_test"
      ],
      "execution_count": 40,
      "outputs": []
    },
    {
      "cell_type": "markdown",
      "metadata": {
        "id": "Rc47soxr0xpo"
      },
      "source": [
        "Now that we treated the text with different tools, we can redo the previous steps to see which words are the most common."
      ]
    },
    {
      "cell_type": "code",
      "metadata": {
        "id": "ozGo7nGp0xpo"
      },
      "source": [
        "df_train_positive = df_train[df_train['feedback'] == 1]\n",
        "df_train_negative = df_train[df_train['feedback'] == 0]"
      ],
      "execution_count": 41,
      "outputs": []
    },
    {
      "cell_type": "code",
      "metadata": {
        "id": "qpO5VfB50xpo"
      },
      "source": [
        "word_positive = ''.join(df_train_positive['verified_reviews_treated'])\n",
        "word_negative = ''.join(df_train_negative['verified_reviews_treated'])\n",
        "\n",
        "tokenized_word_positive = word_tokenize(word_positive) # We joint every reviews of each feedback\n",
        "tokenized_word_negative = word_tokenize(word_negative)"
      ],
      "execution_count": 42,
      "outputs": []
    },
    {
      "cell_type": "code",
      "metadata": {
        "colab": {
          "base_uri": "https://localhost:8080/",
          "height": 198
        },
        "id": "GA9NLIOO0xpp",
        "outputId": "adb3e037-6a95-4278-d51d-c249286e02a8"
      },
      "source": [
        "wordcloud_pos = WordCloud(stopwords = stopword, max_font_size = 100, max_words = 100, background_color = 'white')\\\n",
        "                .generate(word_positive)\n",
        "plt.figure()\n",
        "plt.imshow(wordcloud_pos, interpolation = 'bilinear')\n",
        "plt.axis('off')\n",
        "plt.show()"
      ],
      "execution_count": 43,
      "outputs": [
        {
          "output_type": "display_data",
          "data": {
            "image/png": "[encoded data removed]",
            "text/plain": [
              "<Figure size 432x288 with 1 Axes>"
            ]
          },
          "metadata": {
            "tags": [],
            "needs_background": "light"
          }
        }
      ]
    },
    {
      "cell_type": "code",
      "metadata": {
        "colab": {
          "base_uri": "https://localhost:8080/",
          "height": 198
        },
        "id": "zUjlwlwL0xpp",
        "outputId": "9aa7279f-c855-4c9d-dfb4-c52c893cc895"
      },
      "source": [
        "wordcloud_neg = WordCloud(stopwords = stopword, max_font_size = 100, max_words = 100, background_color = 'white')\\\n",
        "                .generate(word_negative)\n",
        "plt.figure()\n",
        "plt.imshow(wordcloud_neg, interpolation = 'bilinear')\n",
        "plt.axis('off')\n",
        "plt.show()"
      ],
      "execution_count": 44,
      "outputs": [
        {
          "output_type": "display_data",
          "data": {
            "image/png": "[encoded data removed]",
            "text/plain": [
              "<Figure size 432x288 with 1 Axes>"
            ]
          },
          "metadata": {
            "tags": [],
            "needs_background": "light"
          }
        }
      ]
    },
    {
      "cell_type": "markdown",
      "metadata": {
        "id": "T4Opge6S0xpp"
      },
      "source": [
        "As we can see, it's still hard to see an evident relationship between words and sentiment (again except for specific words of the positive sentiment expression). We therefore try to develop a first model where we apply basic feature determination using special positive wordsand see how well it works out."
      ]
    },
    {
      "cell_type": "code",
      "metadata": {
        "id": "DU3G9WRW0xpq"
      },
      "source": [
        "positive_words = set(['love', 'great', 'good'])\n",
        "simple_train = list(df_train.verified_reviews)\n",
        "determined_labels = []\n",
        "for review in simple_train:\n",
        "    if(positive_words.intersection(word_tokenize(review)) != set()):\n",
        "        determined_labels.append(1)\n",
        "    else:\n",
        "        determined_labels.append(0)\n",
        "determined_labels = np.array(determined_labels)"
      ],
      "execution_count": 45,
      "outputs": []
    },
    {
      "cell_type": "code",
      "metadata": {
        "colab": {
          "base_uri": "https://localhost:8080/"
        },
        "id": "WGx6erq00xpq",
        "outputId": "1297b269-7d34-4c29-ede9-551a94332f2c"
      },
      "source": [
        "print(f1_score(list(1-df_train.feedback), 1-determined_labels))"
      ],
      "execution_count": 46,
      "outputs": [
        {
          "output_type": "stream",
          "text": [
            "0.1682600382409178\n"
          ],
          "name": "stdout"
        }
      ]
    },
    {
      "cell_type": "code",
      "metadata": {
        "colab": {
          "base_uri": "https://localhost:8080/"
        },
        "id": "J6_mz2JQ0xpq",
        "outputId": "0ff96b71-e0d6-4e21-bd57-948ba2cba6bf"
      },
      "source": [
        "print(f1_score(list(1-df_train.feedback), np.ones(df_train.shape[0])))"
      ],
      "execution_count": 47,
      "outputs": [
        {
          "output_type": "stream",
          "text": [
            "0.1300742034046268\n"
          ],
          "name": "stdout"
        }
      ]
    },
    {
      "cell_type": "markdown",
      "metadata": {
        "id": "KshxMHD00xpr"
      },
      "source": [
        "Considering the class with the less occurences is the 0 class, we have to redefine the feedback value so the new class of interest (which is 1 for the F1-score) is the 0 class. We then see that using this method, we obtain a better F1-score than the constant prediction case on the train dataset."
      ]
    },
    {
      "cell_type": "code",
      "metadata": {
        "colab": {
          "base_uri": "https://localhost:8080/"
        },
        "id": "9ZPAnGXZ0xpr",
        "outputId": "6b8108f0-ca49-4e41-ab0f-07854ebb6bdd"
      },
      "source": [
        "np.mean(df_train.feedback == determined_labels)"
      ],
      "execution_count": 48,
      "outputs": [
        {
          "output_type": "execute_result",
          "data": {
            "text/plain": [
              "0.3907563025210084"
            ]
          },
          "metadata": {
            "tags": []
          },
          "execution_count": 48
        }
      ]
    },
    {
      "cell_type": "code",
      "metadata": {
        "colab": {
          "base_uri": "https://localhost:8080/"
        },
        "id": "A9qjZTP60xpr",
        "outputId": "d419bc1a-6ac5-4b77-c1e7-6250cd051273"
      },
      "source": [
        "np.mean(df_train.feedback == np.ones(df_train.shape[0]))"
      ],
      "execution_count": 49,
      "outputs": [
        {
          "output_type": "execute_result",
          "data": {
            "text/plain": [
              "0.9304388422035481"
            ]
          },
          "metadata": {
            "tags": []
          },
          "execution_count": 49
        }
      ]
    },
    {
      "cell_type": "markdown",
      "metadata": {
        "id": "brL_G2WH0xps"
      },
      "source": [
        "Yet, the accuracy is way lower than what could be expected (which proves that a significant number of positive reviews canno't just be classified using the positive words directly)."
      ]
    },
    {
      "cell_type": "code",
      "metadata": {
        "id": "mj3Glrox0xps"
      },
      "source": [
        "simple_test = list(df_test.verified_reviews)\n",
        "determined_labels_test = []\n",
        "for review in simple_test:\n",
        "    if(positive_words.intersection(word_tokenize(review)) != set()):\n",
        "        determined_labels_test.append(1)\n",
        "    else:\n",
        "        determined_labels_test.append(0)\n",
        "determined_labels_test = np.array(determined_labels_test)"
      ],
      "execution_count": 50,
      "outputs": []
    },
    {
      "cell_type": "code",
      "metadata": {
        "colab": {
          "base_uri": "https://localhost:8080/"
        },
        "id": "p4C2bQnE0xps",
        "outputId": "6d7a56e0-753f-455c-dc84-9adee4568fb2"
      },
      "source": [
        "print(f1_score(list(1-df_test.feedback), 1-determined_labels_test))"
      ],
      "execution_count": 51,
      "outputs": [
        {
          "output_type": "stream",
          "text": [
            "0.20448179271708683\n"
          ],
          "name": "stdout"
        }
      ]
    },
    {
      "cell_type": "code",
      "metadata": {
        "colab": {
          "base_uri": "https://localhost:8080/"
        },
        "id": "IuDNEwLE0xps",
        "outputId": "e73080ce-6185-4aa5-dd5d-ed89a94fbcdf"
      },
      "source": [
        "print(f1_score(list(1-df_test.feedback), np.ones(df_test.shape[0])))"
      ],
      "execution_count": 52,
      "outputs": [
        {
          "output_type": "stream",
          "text": [
            "0.175715695952616\n"
          ],
          "name": "stdout"
        }
      ]
    },
    {
      "cell_type": "code",
      "metadata": {
        "colab": {
          "base_uri": "https://localhost:8080/"
        },
        "id": "7vaN_Ww_0xpt",
        "outputId": "8c1170cf-4d2f-478f-d7e1-90e5e3cf05d1"
      },
      "source": [
        "np.mean(df_test.feedback == determined_labels_test)"
      ],
      "execution_count": 53,
      "outputs": [
        {
          "output_type": "execute_result",
          "data": {
            "text/plain": [
              "0.3852813852813853"
            ]
          },
          "metadata": {
            "tags": []
          },
          "execution_count": 53
        }
      ]
    },
    {
      "cell_type": "code",
      "metadata": {
        "colab": {
          "base_uri": "https://localhost:8080/"
        },
        "id": "MCciFQpe0xpt",
        "outputId": "b0b7d81c-b077-4a8e-cabe-eb81f994b71b"
      },
      "source": [
        "np.mean(df_test.feedback == np.ones(df_test.shape[0]))"
      ],
      "execution_count": 54,
      "outputs": [
        {
          "output_type": "execute_result",
          "data": {
            "text/plain": [
              "0.9036796536796536"
            ]
          },
          "metadata": {
            "tags": []
          },
          "execution_count": 54
        }
      ]
    },
    {
      "cell_type": "markdown",
      "metadata": {
        "id": "2tlEI5tK0xpu"
      },
      "source": [
        "Similar conclusions can be drawn from the test dataset which validates what we thought about this naive method."
      ]
    },
    {
      "cell_type": "markdown",
      "metadata": {
        "id": "U-e8W7FR0xpu"
      },
      "source": [
        "### Machine learning methods."
      ]
    },
    {
      "cell_type": "markdown",
      "metadata": {
        "id": "n3Z6jsGO0xpu"
      },
      "source": [
        "We first use simple models using Tfid Vectorization of words, we will then, use the already implemented classifier of the FastText embedding algorithm."
      ]
    },
    {
      "cell_type": "code",
      "metadata": {
        "id": "GRv37hG10xpv"
      },
      "source": [
        "y_train = list(df_train['feedback'])\n",
        "y_test = list(df_test['feedback'])"
      ],
      "execution_count": 55,
      "outputs": []
    },
    {
      "cell_type": "code",
      "metadata": {
        "id": "1_JEL9XX0xpv"
      },
      "source": [
        "tfid = TfidfVectorizer(max_features = 2000) \n",
        "X_train_t = tfid.fit_transform(corpus_train).toarray()\n",
        "X_test_t = tfid.transform(corpus_test).toarray()"
      ],
      "execution_count": 56,
      "outputs": []
    },
    {
      "cell_type": "code",
      "metadata": {
        "id": "CqToKogx0xpv"
      },
      "source": [
        "classifier = MultinomialNB(alpha = 1 , fit_prior=True, class_prior=None)\n",
        "classifier.fit(X_train_t, y_train)\n",
        "y_pred_train = classifier.predict(X_train_t)\n",
        "y_pred_test = classifier.predict(X_test_t)"
      ],
      "execution_count": 57,
      "outputs": []
    },
    {
      "cell_type": "code",
      "metadata": {
        "colab": {
          "base_uri": "https://localhost:8080/"
        },
        "id": "ggcEURji0xpw",
        "outputId": "d53dacd4-1278-45b1-91f1-cdd077919a0b"
      },
      "source": [
        "print(f1_score(list(1-y_pred_train), 1-np.array(y_train)))\n",
        "np.mean(y_pred_train == y_train)"
      ],
      "execution_count": 58,
      "outputs": [
        {
          "output_type": "stream",
          "text": [
            "0.03846153846153846\n"
          ],
          "name": "stdout"
        },
        {
          "output_type": "execute_result",
          "data": {
            "text/plain": [
              "0.9299719887955182"
            ]
          },
          "metadata": {
            "tags": []
          },
          "execution_count": 58
        }
      ]
    },
    {
      "cell_type": "code",
      "metadata": {
        "colab": {
          "base_uri": "https://localhost:8080/"
        },
        "id": "WPgnYGt20xpw",
        "outputId": "ddb0fc08-49ae-4f02-a497-e555c7e057a9"
      },
      "source": [
        "print(f1_score(list(1-y_pred_test), 1-np.array(y_test)))\n",
        "np.mean(y_pred_test == y_test)"
      ],
      "execution_count": 59,
      "outputs": [
        {
          "output_type": "stream",
          "text": [
            "0.0\n"
          ],
          "name": "stdout"
        },
        {
          "output_type": "execute_result",
          "data": {
            "text/plain": [
              "0.9036796536796536"
            ]
          },
          "metadata": {
            "tags": []
          },
          "execution_count": 59
        }
      ]
    },
    {
      "cell_type": "code",
      "metadata": {
        "id": "zq8GKEK_0xpw"
      },
      "source": [
        "classifier = svm.SVC(C=1.0, kernel='linear', degree=3, gamma='auto')\n",
        "classifier.fit(X_train_t, y_train)\n",
        "y_pred_train = classifier.predict(X_train_t)\n",
        "y_pred_test = classifier.predict(X_test_t)"
      ],
      "execution_count": 60,
      "outputs": []
    },
    {
      "cell_type": "code",
      "metadata": {
        "colab": {
          "base_uri": "https://localhost:8080/"
        },
        "id": "4SPAL6a20xpw",
        "outputId": "2fa73f4b-61a3-41a5-e28b-d15a77c75d8e"
      },
      "source": [
        "print(f1_score(list(1-y_pred_train), 1-np.array(y_train)))\n",
        "np.mean(y_pred_train == y_train)"
      ],
      "execution_count": 61,
      "outputs": [
        {
          "output_type": "stream",
          "text": [
            "0.7478991596638656\n"
          ],
          "name": "stdout"
        },
        {
          "output_type": "execute_result",
          "data": {
            "text/plain": [
              "0.9719887955182073"
            ]
          },
          "metadata": {
            "tags": []
          },
          "execution_count": 61
        }
      ]
    },
    {
      "cell_type": "code",
      "metadata": {
        "colab": {
          "base_uri": "https://localhost:8080/"
        },
        "id": "POvP75Pq0xpx",
        "outputId": "302600f0-d48c-44e1-a0f5-84ea598ed809"
      },
      "source": [
        "print(f1_score(list(1-y_pred_test), 1-np.array(y_test)))\n",
        "np.mean(y_pred_test == y_test)"
      ],
      "execution_count": 62,
      "outputs": [
        {
          "output_type": "stream",
          "text": [
            "0.32727272727272727\n"
          ],
          "name": "stdout"
        },
        {
          "output_type": "execute_result",
          "data": {
            "text/plain": [
              "0.9199134199134199"
            ]
          },
          "metadata": {
            "tags": []
          },
          "execution_count": 62
        }
      ]
    },
    {
      "cell_type": "code",
      "metadata": {
        "id": "S7tiO_iZ0xpx"
      },
      "source": [
        "classifier = LogisticRegression(solver = 'lbfgs',max_iter = 500, multi_class = \"auto\")\n",
        "classifier.fit(X_train_t, y_train)\n",
        "y_pred_train = classifier.predict(X_train_t)\n",
        "y_pred_test = classifier.predict(X_test_t)"
      ],
      "execution_count": 63,
      "outputs": []
    },
    {
      "cell_type": "code",
      "metadata": {
        "colab": {
          "base_uri": "https://localhost:8080/"
        },
        "id": "dTMLOH550xpx",
        "outputId": "c1505e47-f201-43d1-982d-cb2a5a13934b"
      },
      "source": [
        "print(f1_score(list(1-y_pred_train), 1-np.array(y_train)))\n",
        "np.mean(y_pred_train == y_train)"
      ],
      "execution_count": 64,
      "outputs": [
        {
          "output_type": "stream",
          "text": [
            "0.0\n"
          ],
          "name": "stdout"
        },
        {
          "output_type": "execute_result",
          "data": {
            "text/plain": [
              "0.9304388422035481"
            ]
          },
          "metadata": {
            "tags": []
          },
          "execution_count": 64
        }
      ]
    },
    {
      "cell_type": "code",
      "metadata": {
        "colab": {
          "base_uri": "https://localhost:8080/"
        },
        "id": "kB4lgM0o0xpx",
        "outputId": "29972a4d-60fd-4771-f502-4f21d4ba7dc3"
      },
      "source": [
        "print(f1_score(list(1-y_pred_test), 1-np.array(y_test)))\n",
        "np.mean(y_pred_test == y_test)"
      ],
      "execution_count": 65,
      "outputs": [
        {
          "output_type": "stream",
          "text": [
            "0.0\n"
          ],
          "name": "stdout"
        },
        {
          "output_type": "execute_result",
          "data": {
            "text/plain": [
              "0.9036796536796536"
            ]
          },
          "metadata": {
            "tags": []
          },
          "execution_count": 65
        }
      ]
    },
    {
      "cell_type": "markdown",
      "metadata": {
        "id": "m3MSBCdi0xpy"
      },
      "source": [
        "Obviously, the fine tuning of the parameters here will be hard as the imbalance between the two different classes is very big, nevertheless, with the SVC model we tend to obtain very good results that are better that everything we got so far !"
      ]
    },
    {
      "cell_type": "markdown",
      "metadata": {
        "id": "WMsSB27b0xpy"
      },
      "source": [
        "### FastText model."
      ]
    },
    {
      "cell_type": "code",
      "metadata": {
        "colab": {
          "base_uri": "https://localhost:8080/"
        },
        "id": "4K81WGiu0xpy",
        "outputId": "5a914f33-4c71-4c0c-9e11-252e2f4458da"
      },
      "source": [
        "n_train = len(X_train_e)\n",
        "n_test = len(X_test_e)\n",
        "print(n_train, n_test)"
      ],
      "execution_count": 66,
      "outputs": [
        {
          "output_type": "stream",
          "text": [
            "2142 924\n"
          ],
          "name": "stdout"
        }
      ]
    },
    {
      "cell_type": "code",
      "metadata": {
        "id": "-SKQ54aP0xpy"
      },
      "source": [
        "f = open('train.txt', 'w')\n",
        "for k in range(n_train):\n",
        "    f.write('__label__'+str(y_train[k])+\" \"+str(X_train_e[k]))\n",
        "    f.write(\"\\n\")\n",
        "f.close()"
      ],
      "execution_count": 67,
      "outputs": []
    },
    {
      "cell_type": "code",
      "metadata": {
        "colab": {
          "base_uri": "https://localhost:8080/"
        },
        "id": "FIfJcXSJ2SA9",
        "outputId": "27310d5a-09b0-4518-bf58-9d4cca713fe0"
      },
      "source": [
        "!pip install fasttext"
      ],
      "execution_count": 70,
      "outputs": [
        {
          "output_type": "stream",
          "text": [
            "Collecting fasttext\n",
            "\u001b[?25l  Downloading https://files.pythonhosted.org/packages/f8/85/e2b368ab6d3528827b147fdb814f8189acc981a4bc2f99ab894650e05c40/fasttext-0.9.2.tar.gz (68kB)\n",
            "\r\u001b[K     |████▊                           | 10kB 13.9MB/s eta 0:00:01\r\u001b[K     |█████████▌                      | 20kB 19.9MB/s eta 0:00:01\r\u001b[K     |██████████████▎                 | 30kB 24.2MB/s eta 0:00:01\r\u001b[K     |███████████████████             | 40kB 24.5MB/s eta 0:00:01\r\u001b[K     |███████████████████████▉        | 51kB 9.8MB/s eta 0:00:01\r\u001b[K     |████████████████████████████▋   | 61kB 11.2MB/s eta 0:00:01\r\u001b[K     |████████████████████████████████| 71kB 4.9MB/s \n",
            "\u001b[?25hRequirement already satisfied: pybind11>=2.2 in /usr/local/lib/python3.7/dist-packages (from fasttext) (2.6.2)\n",
            "Requirement already satisfied: setuptools>=0.7.0 in /usr/local/lib/python3.7/dist-packages (from fasttext) (56.0.0)\n",
            "Requirement already satisfied: numpy in /usr/local/lib/python3.7/dist-packages (from fasttext) (1.19.5)\n",
            "Building wheels for collected packages: fasttext\n",
            "  Building wheel for fasttext (setup.py) ... \u001b[?25l\u001b[?25hdone\n",
            "  Created wheel for fasttext: filename=fasttext-0.9.2-cp37-cp37m-linux_x86_64.whl size=3092063 sha256=ac130e15eca653a1afffd50bcd1986a03f24606d8c88e1d7048fa1dacbff6bce\n",
            "  Stored in directory: /root/.cache/pip/wheels/98/ba/7f/b154944a1cf5a8cee91c154b75231136cc3a3321ab0e30f592\n",
            "Successfully built fasttext\n",
            "Installing collected packages: fasttext\n",
            "Successfully installed fasttext-0.9.2\n"
          ],
          "name": "stdout"
        }
      ]
    },
    {
      "cell_type": "code",
      "metadata": {
        "id": "2kJqbJAZ2WDM"
      },
      "source": [
        "import fasttext"
      ],
      "execution_count": 71,
      "outputs": []
    },
    {
      "cell_type": "code",
      "metadata": {
        "id": "kxjnGzEb0xpy"
      },
      "source": [
        "model = fasttext.train_supervised('train.txt')\n",
        "\n",
        "y_pred = []\n",
        "for k in range(n_test):\n",
        "    y_pred.append(int((model.predict(str(X_test_e[k])))[0][0][9:]))\n",
        "y_pred = np.array(y_pred)"
      ],
      "execution_count": 72,
      "outputs": []
    },
    {
      "cell_type": "code",
      "metadata": {
        "colab": {
          "base_uri": "https://localhost:8080/"
        },
        "id": "TbfZAXD40xpz",
        "outputId": "4e629fdc-578a-49e8-a48a-68e1860e058f"
      },
      "source": [
        "print(f1_score(list(1-y_pred), 1-np.array(y_test)))\n",
        "np.mean(y_pred == y_test)"
      ],
      "execution_count": 73,
      "outputs": [
        {
          "output_type": "stream",
          "text": [
            "0.02222222222222222\n"
          ],
          "name": "stdout"
        },
        {
          "output_type": "execute_result",
          "data": {
            "text/plain": [
              "0.9047619047619048"
            ]
          },
          "metadata": {
            "tags": []
          },
          "execution_count": 73
        }
      ]
    },
    {
      "cell_type": "markdown",
      "metadata": {
        "id": "qTlCepb50xpz"
      },
      "source": [
        "Using the already implemented FastText model, we can notice worse results than those we previously implemented, neither the less we still notice a slight upgrade regarding the first results we made (and those not concering the SVC)."
      ]
    },
    {
      "cell_type": "markdown",
      "metadata": {
        "id": "XFsOXsPy0xp1"
      },
      "source": [
        "### FastText model using the SVC classifier and the FastText vector embedding."
      ]
    },
    {
      "cell_type": "code",
      "metadata": {
        "id": "n6KOF2vo0xp1"
      },
      "source": [
        "f = open('train_emb.txt', 'w')\n",
        "for k in range(n_train):\n",
        "    f.write(str(X_train_e[k]))\n",
        "    f.write(\"\\n\")\n",
        "f.close()"
      ],
      "execution_count": 74,
      "outputs": []
    },
    {
      "cell_type": "code",
      "metadata": {
        "id": "PIqCwoNi0xp2"
      },
      "source": [
        "model_emb = fasttext.train_unsupervised('train_emb.txt', model='skipgram')"
      ],
      "execution_count": 75,
      "outputs": []
    },
    {
      "cell_type": "code",
      "metadata": {
        "colab": {
          "base_uri": "https://localhost:8080/"
        },
        "id": "pq2lAFmG0xp2",
        "outputId": "1377adf4-8154-40e6-8042-dc2603161594"
      },
      "source": [
        "model_emb.words"
      ],
      "execution_count": 76,
      "outputs": [
        {
          "output_type": "execute_result",
          "data": {
            "text/plain": [
              "['</s>',\n",
              " 'the',\n",
              " 'I',\n",
              " 'to',\n",
              " 'and',\n",
              " 'it',\n",
              " 'a',\n",
              " 'my',\n",
              " 'is',\n",
              " 'for',\n",
              " 'of',\n",
              " 'with',\n",
              " 'have',\n",
              " 'in',\n",
              " 'that',\n",
              " 'this',\n",
              " 'but',\n",
              " 'love',\n",
              " 'on',\n",
              " 'Echo',\n",
              " 'as',\n",
              " 'can',\n",
              " 'so',\n",
              " 'was',\n",
              " 'like',\n",
              " 'Alexa',\n",
              " 'you',\n",
              " 'not',\n",
              " 'great',\n",
              " 'up',\n",
              " 'The',\n",
              " 'Love',\n",
              " 'use',\n",
              " 'It',\n",
              " 'music',\n",
              " 'be',\n",
              " 'all',\n",
              " 'set',\n",
              " 'it.',\n",
              " 'just',\n",
              " 'or',\n",
              " 'more',\n",
              " 'one',\n",
              " 'an',\n",
              " 'when',\n",
              " 'are',\n",
              " 'echo',\n",
              " 'sound',\n",
              " 'get',\n",
              " 'very',\n",
              " 'has',\n",
              " 'easy',\n",
              " 'me',\n",
              " 'we',\n",
              " 'play',\n",
              " 'from',\n",
              " 'Great',\n",
              " 'do',\n",
              " 'had',\n",
              " 'our',\n",
              " 'works',\n",
              " 'We',\n",
              " 'am',\n",
              " 'what',\n",
              " 'if',\n",
              " 'would',\n",
              " 'than',\n",
              " 'at',\n",
              " 'This',\n",
              " 'will',\n",
              " 'good',\n",
              " 'out',\n",
              " 'other',\n",
              " 'speaker',\n",
              " 'she',\n",
              " 'much',\n",
              " 'Works',\n",
              " 'really',\n",
              " 'Amazon',\n",
              " 'bought',\n",
              " \"I'm\",\n",
              " 'no',\n",
              " 'its',\n",
              " 'only',\n",
              " 'about',\n",
              " 'product',\n",
              " 'device',\n",
              " 'smart',\n",
              " 'better',\n",
              " 'time',\n",
              " 'also',\n",
              " 'even',\n",
              " 'how',\n",
              " \"it's\",\n",
              " 'still',\n",
              " 'quality',\n",
              " 'her',\n",
              " 'having',\n",
              " 'new',\n",
              " 'Very',\n",
              " 'because',\n",
              " 'it!',\n",
              " 'does',\n",
              " 'some',\n",
              " 'home',\n",
              " 'little',\n",
              " 'any',\n",
              " 'they',\n",
              " 'So',\n",
              " 'your',\n",
              " 'work',\n",
              " 'things',\n",
              " 'far',\n",
              " 'learning',\n",
              " 'My',\n",
              " 'everything',\n",
              " 'i',\n",
              " 'Easy',\n",
              " 'got',\n",
              " 'off',\n",
              " 'been',\n",
              " 'able',\n",
              " 'which',\n",
              " 'Prime',\n",
              " 'could',\n",
              " 'dot',\n",
              " 'ask',\n",
              " 'thing',\n",
              " 'fun',\n",
              " 'voice',\n",
              " 'want',\n",
              " 'screen',\n",
              " 'now',\n",
              " 'buy',\n",
              " 'getting',\n",
              " 'turn',\n",
              " 'using',\n",
              " 'know',\n",
              " 'need',\n",
              " \"don't\",\n",
              " 'without',\n",
              " 'by',\n",
              " 'Im',\n",
              " 'many',\n",
              " 'another',\n",
              " 'them',\n",
              " \"It's\",\n",
              " 'devices',\n",
              " 'music.',\n",
              " 'lights',\n",
              " 'think',\n",
              " 'well',\n",
              " 'lot',\n",
              " 'Dot',\n",
              " 'see',\n",
              " 'used',\n",
              " 'hub',\n",
              " 'listen',\n",
              " 'Still',\n",
              " 'prime',\n",
              " 'way',\n",
              " 'sounds',\n",
              " 'room',\n",
              " 'product.',\n",
              " 'there',\n",
              " 'use.',\n",
              " 'purchased',\n",
              " 'nice',\n",
              " 'video',\n",
              " 'find',\n",
              " 'up.',\n",
              " 'being',\n",
              " 'device.',\n",
              " 'tell',\n",
              " 'day',\n",
              " 'music,',\n",
              " 'great.',\n",
              " 'while',\n",
              " '-',\n",
              " 'it,',\n",
              " 'two',\n",
              " 'Its',\n",
              " 'light',\n",
              " 'Echo.',\n",
              " 'control',\n",
              " 'playing',\n",
              " 'these',\n",
              " 'every',\n",
              " 'Plus',\n",
              " 'over',\n",
              " 'make',\n",
              " 'You',\n",
              " 'speaker.',\n",
              " 'wish',\n",
              " 'first',\n",
              " 'pretty',\n",
              " 'say',\n",
              " 'alarm',\n",
              " 'price',\n",
              " 'show',\n",
              " 'Alexa.',\n",
              " 'Just',\n",
              " 'sure',\n",
              " 'house',\n",
              " 'small',\n",
              " 'going',\n",
              " 'amazon',\n",
              " 'clock',\n",
              " 'connect',\n",
              " 'few',\n",
              " \"doesn't\",\n",
              " 'purchase',\n",
              " 'through',\n",
              " 'same',\n",
              " 'do.',\n",
              " 'She',\n",
              " 'watch',\n",
              " \"can't\",\n",
              " 'then',\n",
              " 'listening',\n",
              " 'Not',\n",
              " 'should',\n",
              " 'home.',\n",
              " 'speakers',\n",
              " 'into',\n",
              " 'something',\n",
              " 'times',\n",
              " 'connected',\n",
              " '2',\n",
              " 'Good',\n",
              " 'doesnt',\n",
              " 'loves',\n",
              " 'app',\n",
              " 'If',\n",
              " 'But',\n",
              " 'old',\n",
              " 'go',\n",
              " 'great!',\n",
              " 'phone',\n",
              " 'full',\n",
              " 'more.',\n",
              " 'working',\n",
              " 'best',\n",
              " 'take',\n",
              " 'family',\n",
              " 'add',\n",
              " 'house.',\n",
              " 'happy',\n",
              " 'weather',\n",
              " 'bedroom',\n",
              " 'dont',\n",
              " 'hear',\n",
              " '3',\n",
              " 'room.',\n",
              " 'setup',\n",
              " 'he',\n",
              " 'since',\n",
              " 'enjoy',\n",
              " 'size',\n",
              " 'volume',\n",
              " 'different',\n",
              " 'wanted',\n",
              " 'around',\n",
              " 'time.',\n",
              " 'did',\n",
              " 'made',\n",
              " 'understand',\n",
              " 'favorite',\n",
              " \"I've\",\n",
              " 'No',\n",
              " 'plays',\n",
              " 'devices.',\n",
              " 'perfect',\n",
              " 'second',\n",
              " 'trying',\n",
              " 'why',\n",
              " 'well.',\n",
              " 'loved',\n",
              " 'Bought',\n",
              " 'kitchen',\n",
              " 'refurbished',\n",
              " 'Bluetooth',\n",
              " 'never',\n",
              " 'amazing',\n",
              " 'Dot.',\n",
              " 'too',\n",
              " 'TV',\n",
              " 'questions',\n",
              " 'etc.',\n",
              " 'plus',\n",
              " 'buying',\n",
              " 'And',\n",
              " 'where',\n",
              " 'living',\n",
              " 'sound.',\n",
              " 'keep',\n",
              " 'original',\n",
              " 'gift',\n",
              " 'came',\n",
              " 'own',\n",
              " 'problems',\n",
              " 'one.',\n",
              " 'big',\n",
              " 'Have',\n",
              " 'look',\n",
              " '2nd',\n",
              " 'always',\n",
              " 'learn',\n",
              " '.',\n",
              " 'news',\n",
              " 'reason',\n",
              " 'purchase.',\n",
              " 'A',\n",
              " 'recommend',\n",
              " 'call',\n",
              " '5',\n",
              " 'most',\n",
              " \"didn't\",\n",
              " 'who',\n",
              " 'Show',\n",
              " 'good.',\n",
              " 'part',\n",
              " 'When',\n",
              " 'work.',\n",
              " 'thought',\n",
              " 'back',\n",
              " 'song',\n",
              " 'Spot',\n",
              " 'features',\n",
              " 'problem',\n",
              " 'after',\n",
              " 'enough',\n",
              " 'echo.',\n",
              " 'There',\n",
              " 'radio',\n",
              " 'songs',\n",
              " 'help',\n",
              " 'simple',\n",
              " 'useful',\n",
              " 'asking',\n",
              " 'daughter',\n",
              " 'weather,',\n",
              " 'Sound',\n",
              " 'feature',\n",
              " 'me.',\n",
              " '4',\n",
              " 'may',\n",
              " 'wife',\n",
              " 'give',\n",
              " 'their',\n",
              " 'enjoying',\n",
              " 'whole',\n",
              " 'anything',\n",
              " ',',\n",
              " 'makes',\n",
              " 'access',\n",
              " 'addition',\n",
              " 'built',\n",
              " 'Now',\n",
              " 'Really',\n",
              " 'Alexa,',\n",
              " 'bulbs',\n",
              " '&',\n",
              " 'disappointed',\n",
              " 'setting',\n",
              " 'looking',\n",
              " 'great,',\n",
              " 'before',\n",
              " 'night',\n",
              " 'right',\n",
              " 'commands',\n",
              " 'worked',\n",
              " 'come',\n",
              " 'Hue',\n",
              " 'try',\n",
              " 'shows',\n",
              " 'gets',\n",
              " 'For',\n",
              " 'it!!',\n",
              " 'worth',\n",
              " 'easier',\n",
              " 'alexa',\n",
              " 'pleased',\n",
              " 'forward',\n",
              " 'live',\n",
              " 'LOVE',\n",
              " 'sometimes',\n",
              " 'respond',\n",
              " 'during',\n",
              " 'user',\n",
              " 'son',\n",
              " 'seems',\n",
              " 'tv',\n",
              " 'kids',\n",
              " 'actually',\n",
              " 'both',\n",
              " 'issue',\n",
              " 'money',\n",
              " 'quality.',\n",
              " 'spot',\n",
              " 'already',\n",
              " 'us',\n",
              " 'quite',\n",
              " 'expected',\n",
              " 'wifi',\n",
              " 'answer',\n",
              " 'said',\n",
              " 'couple',\n",
              " 'Day',\n",
              " 'each',\n",
              " 'fact',\n",
              " 'them.',\n",
              " 'me,',\n",
              " 'list',\n",
              " 'Got',\n",
              " 'item',\n",
              " 'up,',\n",
              " '!',\n",
              " 'internet',\n",
              " 'probably',\n",
              " 'almost',\n",
              " 'definitely',\n",
              " 'Echo,',\n",
              " 'adding',\n",
              " 'Music',\n",
              " 'dot.',\n",
              " 'too.',\n",
              " 'bit',\n",
              " 'were',\n",
              " 'better.',\n",
              " 'though',\n",
              " 'his',\n",
              " 'free',\n",
              " 'wake',\n",
              " 'fire',\n",
              " 'looks',\n",
              " 'throughout',\n",
              " 'gives',\n",
              " 'loud',\n",
              " 'easily',\n",
              " 'next',\n",
              " 'added',\n",
              " 'skills',\n",
              " 'several',\n",
              " 'trouble',\n",
              " 'read',\n",
              " 'awesome',\n",
              " 'unit',\n",
              " 'options',\n",
              " 'system',\n",
              " 'command',\n",
              " 'year',\n",
              " 'life',\n",
              " 'tech',\n",
              " 'Perfect',\n",
              " 'As',\n",
              " 'information',\n",
              " 'figure',\n",
              " 'away',\n",
              " 'hub.',\n",
              " 'Google',\n",
              " 'order',\n",
              " 'cant',\n",
              " 'start',\n",
              " 'apps',\n",
              " 'down',\n",
              " 'TV.',\n",
              " 'All',\n",
              " 'day.',\n",
              " 'bedroom.',\n",
              " 'found',\n",
              " 'camera',\n",
              " 'talk',\n",
              " 'morning',\n",
              " 'says',\n",
              " 'long',\n",
              " 'talking',\n",
              " 'fast',\n",
              " 'install',\n",
              " 'needs',\n",
              " 'bulb',\n",
              " \"haven't\",\n",
              " 'Speaker',\n",
              " 'instructions',\n",
              " 'Nice',\n",
              " 'gen',\n",
              " 'sleep',\n",
              " 'item.',\n",
              " 'Like',\n",
              " 'Fun',\n",
              " 'especially',\n",
              " 'stars',\n",
              " 'drop',\n",
              " 'Alexa!',\n",
              " 'wait',\n",
              " 'tells',\n",
              " 'multiple',\n",
              " 'features.',\n",
              " 'else',\n",
              " 'bad',\n",
              " 'people',\n",
              " 'feel',\n",
              " 'bass',\n",
              " 'plugged',\n",
              " 'Fire',\n",
              " 'less',\n",
              " \"Can't\",\n",
              " 'along',\n",
              " 'stick',\n",
              " 'response',\n",
              " 'stuff',\n",
              " 'Also,',\n",
              " 'fun.',\n",
              " 'Only',\n",
              " 'Also',\n",
              " 'issues',\n",
              " 'myself',\n",
              " 'They',\n",
              " 'alarms,',\n",
              " 'audio',\n",
              " 'such',\n",
              " 'Awesome',\n",
              " 'now.',\n",
              " 'week',\n",
              " 'wonderful',\n",
              " 'connection',\n",
              " 'again',\n",
              " 'basic',\n",
              " 'cable',\n",
              " 'yet',\n",
              " 'shopping',\n",
              " 'product,',\n",
              " 'excited',\n",
              " 'asked',\n",
              " 'cool',\n",
              " 'hooked',\n",
              " 'Show.',\n",
              " 'Has',\n",
              " 'off.',\n",
              " 'absolutely',\n",
              " 'generation',\n",
              " 'screen.',\n",
              " 'google',\n",
              " 'setup.',\n",
              " 'Dots',\n",
              " 'use,',\n",
              " 'received',\n",
              " 'three',\n",
              " 'surprised',\n",
              " 'turns',\n",
              " 'convenient',\n",
              " 'minutes',\n",
              " 'Best',\n",
              " 'impressed',\n",
              " '1',\n",
              " 'hours',\n",
              " 'time,',\n",
              " 'mostly',\n",
              " 'Spot.',\n",
              " 'hoping',\n",
              " 'gave',\n",
              " \"wouldn't\",\n",
              " 'super',\n",
              " 'decided',\n",
              " 'Thank',\n",
              " 'instead',\n",
              " 'ever',\n",
              " 'didnt',\n",
              " 'uses',\n",
              " 'timer',\n",
              " 'goes',\n",
              " 'money.',\n",
              " 'this.',\n",
              " 'ability',\n",
              " 'deal',\n",
              " 'Was',\n",
              " 'news,',\n",
              " 'thing.',\n",
              " 'dots',\n",
              " 'change',\n",
              " 'additional',\n",
              " 'ease',\n",
              " 'havent',\n",
              " 'cannot',\n",
              " 'once',\n",
              " 'TO',\n",
              " 'personal',\n",
              " 'yet.',\n",
              " 'timers,',\n",
              " 'Ive',\n",
              " 'husband',\n",
              " 'blue',\n",
              " 'fine.',\n",
              " 'for.',\n",
              " 'wont',\n",
              " '--',\n",
              " 'movie',\n",
              " 'clock.',\n",
              " 'movies',\n",
              " 'started',\n",
              " 'glad',\n",
              " 'exactly',\n",
              " 'Does',\n",
              " 'YouTube',\n",
              " 'put',\n",
              " 'hard',\n",
              " 'must',\n",
              " 'computer',\n",
              " 'thank',\n",
              " 'keeps',\n",
              " 'piece',\n",
              " 'told',\n",
              " 'Amazon.',\n",
              " 'answers',\n",
              " 'videos',\n",
              " 'out.',\n",
              " 'this!',\n",
              " 'fine',\n",
              " 'issues.',\n",
              " 'Philips',\n",
              " 'price.',\n",
              " 'number',\n",
              " 'weeks',\n",
              " 'In',\n",
              " 'expected.',\n",
              " 'far.',\n",
              " 'external',\n",
              " 'kind',\n",
              " 'that.',\n",
              " 'phone.',\n",
              " 'functionality',\n",
              " 'might',\n",
              " 'device,',\n",
              " 'bluetooth',\n",
              " 'Home',\n",
              " 'Absolutely',\n",
              " \"I'd\",\n",
              " 'household',\n",
              " 'needed',\n",
              " 'mainly',\n",
              " 'Would',\n",
              " 'sale',\n",
              " 'Plus.',\n",
              " 'figured',\n",
              " 'him',\n",
              " 'played',\n",
              " \"that's\",\n",
              " 'Super',\n",
              " 'daily',\n",
              " 'group',\n",
              " 'Smart',\n",
              " 'half',\n",
              " 'quick',\n",
              " 'support',\n",
              " 'her.',\n",
              " 'What',\n",
              " 'rooms',\n",
              " 'security',\n",
              " '1st',\n",
              " 'bedside',\n",
              " 'went',\n",
              " 'return',\n",
              " 'via',\n",
              " 'new.',\n",
              " 'extra',\n",
              " 'one,',\n",
              " 'regret',\n",
              " 'remote',\n",
              " 'regular',\n",
              " 'Definitely',\n",
              " 'now,',\n",
              " 'Wish',\n",
              " 'doing',\n",
              " 'thinking',\n",
              " 'often',\n",
              " 'search',\n",
              " 'checking',\n",
              " 'pay',\n",
              " 'check',\n",
              " \"couldn't\",\n",
              " 'paid',\n",
              " 'plan',\n",
              " 'took',\n",
              " 'extremely',\n",
              " 'tooth',\n",
              " 'perfectly',\n",
              " 'family.',\n",
              " 'months',\n",
              " 'assistant',\n",
              " 'responds',\n",
              " 'again.',\n",
              " 'Spotify',\n",
              " 'range',\n",
              " 'job',\n",
              " 'games',\n",
              " 'kitchen.',\n",
              " 'nothing',\n",
              " 'tried',\n",
              " 'excellent',\n",
              " 'products',\n",
              " 'recognition',\n",
              " 'heard',\n",
              " 'Play',\n",
              " 'far,',\n",
              " 'huge',\n",
              " 'Used',\n",
              " 'touch',\n",
              " 'here',\n",
              " \"wasn't\",\n",
              " 'power',\n",
              " 'lives',\n",
              " 'soon',\n",
              " 'display',\n",
              " 'After',\n",
              " 'stop',\n",
              " 'functions',\n",
              " \"isn't\",\n",
              " 'anyone',\n",
              " 'How',\n",
              " 'comes',\n",
              " 'purchasing',\n",
              " 'highly',\n",
              " 'However,',\n",
              " 'quality,',\n",
              " 'ways',\n",
              " 'lights.',\n",
              " 'thermostat',\n",
              " 'ready',\n",
              " 'future',\n",
              " 'speak',\n",
              " 'weather.',\n",
              " 'liked',\n",
              " 'value',\n",
              " 'Use',\n",
              " 'Apple',\n",
              " \"We're\",\n",
              " 'Excellent',\n",
              " 'ones',\n",
              " 'alone',\n",
              " 'gift.',\n",
              " 'friendly',\n",
              " 'well,',\n",
              " 'idea',\n",
              " 'smaller',\n",
              " 'sent',\n",
              " ':)',\n",
              " 'frustrating',\n",
              " '&#34;Alexa,',\n",
              " 'download',\n",
              " 'handy',\n",
              " 'mom',\n",
              " 'miss',\n",
              " 'calls',\n",
              " 'With',\n",
              " 'included',\n",
              " 'battery',\n",
              " 'items',\n",
              " 'Had',\n",
              " 'helps',\n",
              " 'Light',\n",
              " 'hook',\n",
              " 'Sometimes',\n",
              " 'cameras',\n",
              " 'ring',\n",
              " 'commands.',\n",
              " 'capabilities',\n",
              " 'watching',\n",
              " \"won't\",\n",
              " 'home,',\n",
              " 'price,',\n",
              " 'those',\n",
              " 'top',\n",
              " 'Pandora',\n",
              " 'link',\n",
              " 'office',\n",
              " 'takes',\n",
              " 'question',\n",
              " 'seem',\n",
              " 'plug',\n",
              " 'Netflix',\n",
              " 'Will',\n",
              " 'brand',\n",
              " 'difficult',\n",
              " 'internet.',\n",
              " 'lists,',\n",
              " 'skill',\n",
              " 'available',\n",
              " 'in.',\n",
              " 'fix',\n",
              " 'experience',\n",
              " 'app.',\n",
              " 'devices,',\n",
              " 'rather',\n",
              " 'loving',\n",
              " 'nightstand',\n",
              " 'updates',\n",
              " 'questions.',\n",
              " 'chat',\n",
              " 'believe',\n",
              " 'program',\n",
              " 'outside',\n",
              " 'problem.',\n",
              " 'away.',\n",
              " 'until',\n",
              " 'Worked',\n",
              " 'fan',\n",
              " 'Thanks',\n",
              " 'Bose',\n",
              " 'given',\n",
              " 'stream',\n",
              " 'cell',\n",
              " 'mother',\n",
              " 'clear',\n",
              " 'real',\n",
              " 'bed',\n",
              " 'responsive',\n",
              " 'helpful',\n",
              " \"I'll\",\n",
              " 'except',\n",
              " 'larger',\n",
              " 'let',\n",
              " 'youre',\n",
              " 'bulbs.',\n",
              " 'this,',\n",
              " 'follow',\n",
              " 'room,',\n",
              " 'across',\n",
              " 'open',\n",
              " 'large',\n",
              " 'friends',\n",
              " 'stand',\n",
              " 'finding',\n",
              " 'speaker,',\n",
              " 'streaming',\n",
              " 'bulb.',\n",
              " 'Alexia',\n",
              " 'all.',\n",
              " 'account.',\n",
              " 'satisfied',\n",
              " 'need.',\n",
              " 'shut',\n",
              " 'amazed',\n",
              " 'considering',\n",
              " 'Purchased',\n",
              " 'name',\n",
              " 'alarms',\n",
              " 'show.',\n",
              " 'years',\n",
              " 'One',\n",
              " 'things.',\n",
              " 'there.',\n",
              " 'within',\n",
              " 'continue',\n",
              " 'option',\n",
              " 'connecting',\n",
              " 'up!',\n",
              " 'NOT',\n",
              " 'dot,',\n",
              " 'minutes.',\n",
              " 'speakers.',\n",
              " 'face',\n",
              " 'random',\n",
              " 'software',\n",
              " 'base',\n",
              " 'primarily',\n",
              " '!!',\n",
              " 'done',\n",
              " 'lock',\n",
              " 'advertised.',\n",
              " 'terrible',\n",
              " 'Seems',\n",
              " 'AI',\n",
              " 'seeing',\n",
              " 'louder',\n",
              " 'stops',\n",
              " 'instructions.',\n",
              " 'reminders',\n",
              " 'lower',\n",
              " 'making',\n",
              " 'difference',\n",
              " 'white',\n",
              " 'between',\n",
              " 'is.',\n",
              " 'helped',\n",
              " 'Sonos',\n",
              " 'run',\n",
              " 'one!',\n",
              " 'size.',\n",
              " \"you're\",\n",
              " 'use!',\n",
              " 'allow',\n",
              " 'feature.',\n",
              " 'turned',\n",
              " 'controls',\n",
              " 'today',\n",
              " 'products.',\n",
              " 'dots,',\n",
              " 'working.',\n",
              " 'do,',\n",
              " 'star',\n",
              " 'limited',\n",
              " 'product!',\n",
              " 'door',\n",
              " 'middle',\n",
              " '!!!',\n",
              " 'lyrics',\n",
              " 'to.',\n",
              " 'others',\n",
              " 'Loved',\n",
              " 'quickly',\n",
              " 'capabilities.',\n",
              " 'WiFi',\n",
              " 'older',\n",
              " 'update',\n",
              " 'picture',\n",
              " 'technology',\n",
              " 'Or',\n",
              " 'voice.',\n",
              " 'finally',\n",
              " 'laugh',\n",
              " 'everything.',\n",
              " 'hears',\n",
              " 'Happy',\n",
              " 'couldnt',\n",
              " 'third',\n",
              " 'size,',\n",
              " 'bathroom',\n",
              " 'Better',\n",
              " 'Love,',\n",
              " 'telling',\n",
              " 'Dot,',\n",
              " 'AND',\n",
              " 'someone',\n",
              " 'Echo!',\n",
              " 'searching',\n",
              " 'complaints',\n",
              " 'that,',\n",
              " 'turning',\n",
              " 'longer',\n",
              " 'repeat',\n",
              " 'type',\n",
              " 'immediately',\n",
              " 'too!',\n",
              " 'refurbished.',\n",
              " 'supposed',\n",
              " 'lamp',\n",
              " 'waste',\n",
              " 'pick',\n",
              " 'anything.',\n",
              " 'Echos',\n",
              " 'totally',\n",
              " 'unless',\n",
              " 'Then',\n",
              " 'u',\n",
              " 'volume.',\n",
              " 'though.',\n",
              " 'recipes',\n",
              " '3rd',\n",
              " 'days',\n",
              " 'flash',\n",
              " 'plus.',\n",
              " 'forget',\n",
              " 'Everything',\n",
              " 'saw',\n",
              " 'stopped',\n",
              " 'low',\n",
              " 'later',\n",
              " 'point',\n",
              " 'Looks',\n",
              " 'clock,',\n",
              " 'missing',\n",
              " 'entertainment',\n",
              " 'Well',\n",
              " 'hub,',\n",
              " 'clear.',\n",
              " \"Doesn't\",\n",
              " 'changes',\n",
              " 'answering',\n",
              " 'setup,',\n",
              " 'box',\n",
              " '(which',\n",
              " 'Set',\n",
              " 'Once',\n",
              " 'cost',\n",
              " 'Music.',\n",
              " 'IT',\n",
              " 'linked',\n",
              " 'high',\n",
              " 'operate',\n",
              " 'expecting',\n",
              " 'communicate',\n",
              " 'least',\n",
              " 'audible',\n",
              " 'books',\n",
              " 'parents',\n",
              " 'save',\n",
              " 'calling',\n",
              " 'knew',\n",
              " 'alarm,',\n",
              " 'particular',\n",
              " ...]"
            ]
          },
          "metadata": {
            "tags": []
          },
          "execution_count": 76
        }
      ]
    },
    {
      "cell_type": "code",
      "metadata": {
        "id": "qwm1SdUo0xp2"
      },
      "source": [
        "X_train_emb = np.array([list(model_emb.get_sentence_vector(x)) for x in X_train_e]) # Matrix of the embedded vectors\n",
        "X_test_emb = np.array([list(model_emb.get_sentence_vector(x)) for x in X_test_e])"
      ],
      "execution_count": 77,
      "outputs": []
    },
    {
      "cell_type": "code",
      "metadata": {
        "id": "5LU1HcHw0xp2"
      },
      "source": [
        "classifier = svm.SVC(C=0.0001, kernel='sigmoid', degree=3, gamma='auto')\n",
        "classifier.fit(X_train_emb, y_train)\n",
        "y_pred_train = classifier.predict(X_train_emb)\n",
        "y_pred_test = classifier.predict(X_test_emb)"
      ],
      "execution_count": 78,
      "outputs": []
    },
    {
      "cell_type": "code",
      "metadata": {
        "colab": {
          "base_uri": "https://localhost:8080/"
        },
        "id": "fbreYNoH0xp3",
        "outputId": "009016b5-d46d-4f1a-ec57-0baa2738d06d"
      },
      "source": [
        "print(f1_score(list(1-y_pred_test), 1-np.array(y_test)))\n",
        "np.mean(y_pred_test == y_test)"
      ],
      "execution_count": 79,
      "outputs": [
        {
          "output_type": "stream",
          "text": [
            "0.0\n"
          ],
          "name": "stdout"
        },
        {
          "output_type": "execute_result",
          "data": {
            "text/plain": [
              "0.9036796536796536"
            ]
          },
          "metadata": {
            "tags": []
          },
          "execution_count": 79
        }
      ]
    },
    {
      "cell_type": "code",
      "metadata": {
        "id": "PvaXdCPW0xp3"
      },
      "source": [
        "param_grid = {'C': [0.1,1, 10, 100], 'gamma': [1,0.1,0.01,0.001,'auto'],'kernel': ['rbf', 'poly', 'sigmoid', 'linear']}"
      ],
      "execution_count": 80,
      "outputs": []
    },
    {
      "cell_type": "code",
      "metadata": {
        "colab": {
          "base_uri": "https://localhost:8080/"
        },
        "id": "6DUnmwGD0xp3",
        "outputId": "e948e0ad-6616-4fe6-ba28-75bbea935972"
      },
      "source": [
        "grid = GridSearchCV(svm.SVC(),param_grid,refit=True,verbose=2)\n",
        "grid.fit(X_train_emb,y_train)"
      ],
      "execution_count": 82,
      "outputs": [
        {
          "output_type": "stream",
          "text": [
            "Fitting 5 folds for each of 80 candidates, totalling 400 fits\n",
            "[CV] C=0.1, gamma=1, kernel=rbf ......................................\n",
            "[CV] ....................... C=0.1, gamma=1, kernel=rbf, total=   0.1s\n",
            "[CV] C=0.1, gamma=1, kernel=rbf ......................................\n"
          ],
          "name": "stdout"
        },
        {
          "output_type": "stream",
          "text": [
            "[Parallel(n_jobs=1)]: Using backend SequentialBackend with 1 concurrent workers.\n",
            "[Parallel(n_jobs=1)]: Done   1 out of   1 | elapsed:    0.1s remaining:    0.0s\n"
          ],
          "name": "stderr"
        },
        {
          "output_type": "stream",
          "text": [
            "[CV] ....................... C=0.1, gamma=1, kernel=rbf, total=   0.1s\n",
            "[CV] C=0.1, gamma=1, kernel=rbf ......................................\n",
            "[CV] ....................... C=0.1, gamma=1, kernel=rbf, total=   0.1s\n",
            "[CV] C=0.1, gamma=1, kernel=rbf ......................................\n",
            "[CV] ....................... C=0.1, gamma=1, kernel=rbf, total=   0.1s\n",
            "[CV] C=0.1, gamma=1, kernel=rbf ......................................\n",
            "[CV] ....................... C=0.1, gamma=1, kernel=rbf, total=   0.1s\n",
            "[CV] C=0.1, gamma=1, kernel=poly .....................................\n",
            "[CV] ...................... C=0.1, gamma=1, kernel=poly, total=   0.1s\n",
            "[CV] C=0.1, gamma=1, kernel=poly .....................................\n",
            "[CV] ...................... C=0.1, gamma=1, kernel=poly, total=   0.1s\n",
            "[CV] C=0.1, gamma=1, kernel=poly .....................................\n",
            "[CV] ...................... C=0.1, gamma=1, kernel=poly, total=   0.1s\n",
            "[CV] C=0.1, gamma=1, kernel=poly .....................................\n",
            "[CV] ...................... C=0.1, gamma=1, kernel=poly, total=   0.1s\n",
            "[CV] C=0.1, gamma=1, kernel=poly .....................................\n",
            "[CV] ...................... C=0.1, gamma=1, kernel=poly, total=   0.1s\n",
            "[CV] C=0.1, gamma=1, kernel=sigmoid ..................................\n",
            "[CV] ................... C=0.1, gamma=1, kernel=sigmoid, total=   0.1s\n",
            "[CV] C=0.1, gamma=1, kernel=sigmoid ..................................\n",
            "[CV] ................... C=0.1, gamma=1, kernel=sigmoid, total=   0.1s\n",
            "[CV] C=0.1, gamma=1, kernel=sigmoid ..................................\n",
            "[CV] ................... C=0.1, gamma=1, kernel=sigmoid, total=   0.1s\n",
            "[CV] C=0.1, gamma=1, kernel=sigmoid ..................................\n",
            "[CV] ................... C=0.1, gamma=1, kernel=sigmoid, total=   0.1s\n",
            "[CV] C=0.1, gamma=1, kernel=sigmoid ..................................\n",
            "[CV] ................... C=0.1, gamma=1, kernel=sigmoid, total=   0.1s\n",
            "[CV] C=0.1, gamma=1, kernel=linear ...................................\n",
            "[CV] .................... C=0.1, gamma=1, kernel=linear, total=   0.1s\n",
            "[CV] C=0.1, gamma=1, kernel=linear ...................................\n",
            "[CV] .................... C=0.1, gamma=1, kernel=linear, total=   0.1s\n",
            "[CV] C=0.1, gamma=1, kernel=linear ...................................\n",
            "[CV] .................... C=0.1, gamma=1, kernel=linear, total=   0.1s\n",
            "[CV] C=0.1, gamma=1, kernel=linear ...................................\n",
            "[CV] .................... C=0.1, gamma=1, kernel=linear, total=   0.1s\n",
            "[CV] C=0.1, gamma=1, kernel=linear ...................................\n",
            "[CV] .................... C=0.1, gamma=1, kernel=linear, total=   0.1s\n",
            "[CV] C=0.1, gamma=0.1, kernel=rbf ....................................\n",
            "[CV] ..................... C=0.1, gamma=0.1, kernel=rbf, total=   0.1s\n",
            "[CV] C=0.1, gamma=0.1, kernel=rbf ....................................\n",
            "[CV] ..................... C=0.1, gamma=0.1, kernel=rbf, total=   0.1s\n",
            "[CV] C=0.1, gamma=0.1, kernel=rbf ....................................\n",
            "[CV] ..................... C=0.1, gamma=0.1, kernel=rbf, total=   0.1s\n",
            "[CV] C=0.1, gamma=0.1, kernel=rbf ....................................\n",
            "[CV] ..................... C=0.1, gamma=0.1, kernel=rbf, total=   0.1s\n",
            "[CV] C=0.1, gamma=0.1, kernel=rbf ....................................\n",
            "[CV] ..................... C=0.1, gamma=0.1, kernel=rbf, total=   0.1s\n",
            "[CV] C=0.1, gamma=0.1, kernel=poly ...................................\n",
            "[CV] .................... C=0.1, gamma=0.1, kernel=poly, total=   0.1s\n",
            "[CV] C=0.1, gamma=0.1, kernel=poly ...................................\n",
            "[CV] .................... C=0.1, gamma=0.1, kernel=poly, total=   0.1s\n",
            "[CV] C=0.1, gamma=0.1, kernel=poly ...................................\n",
            "[CV] .................... C=0.1, gamma=0.1, kernel=poly, total=   0.1s\n",
            "[CV] C=0.1, gamma=0.1, kernel=poly ...................................\n",
            "[CV] .................... C=0.1, gamma=0.1, kernel=poly, total=   0.1s\n",
            "[CV] C=0.1, gamma=0.1, kernel=poly ...................................\n",
            "[CV] .................... C=0.1, gamma=0.1, kernel=poly, total=   0.1s\n",
            "[CV] C=0.1, gamma=0.1, kernel=sigmoid ................................\n",
            "[CV] ................. C=0.1, gamma=0.1, kernel=sigmoid, total=   0.1s\n",
            "[CV] C=0.1, gamma=0.1, kernel=sigmoid ................................\n",
            "[CV] ................. C=0.1, gamma=0.1, kernel=sigmoid, total=   0.1s\n",
            "[CV] C=0.1, gamma=0.1, kernel=sigmoid ................................\n",
            "[CV] ................. C=0.1, gamma=0.1, kernel=sigmoid, total=   0.1s\n",
            "[CV] C=0.1, gamma=0.1, kernel=sigmoid ................................\n",
            "[CV] ................. C=0.1, gamma=0.1, kernel=sigmoid, total=   0.1s\n",
            "[CV] C=0.1, gamma=0.1, kernel=sigmoid ................................\n",
            "[CV] ................. C=0.1, gamma=0.1, kernel=sigmoid, total=   0.1s\n",
            "[CV] C=0.1, gamma=0.1, kernel=linear .................................\n",
            "[CV] .................. C=0.1, gamma=0.1, kernel=linear, total=   0.1s\n",
            "[CV] C=0.1, gamma=0.1, kernel=linear .................................\n",
            "[CV] .................. C=0.1, gamma=0.1, kernel=linear, total=   0.1s\n",
            "[CV] C=0.1, gamma=0.1, kernel=linear .................................\n",
            "[CV] .................. C=0.1, gamma=0.1, kernel=linear, total=   0.1s\n",
            "[CV] C=0.1, gamma=0.1, kernel=linear .................................\n",
            "[CV] .................. C=0.1, gamma=0.1, kernel=linear, total=   0.1s\n",
            "[CV] C=0.1, gamma=0.1, kernel=linear .................................\n",
            "[CV] .................. C=0.1, gamma=0.1, kernel=linear, total=   0.1s\n",
            "[CV] C=0.1, gamma=0.01, kernel=rbf ...................................\n",
            "[CV] .................... C=0.1, gamma=0.01, kernel=rbf, total=   0.1s\n",
            "[CV] C=0.1, gamma=0.01, kernel=rbf ...................................\n",
            "[CV] .................... C=0.1, gamma=0.01, kernel=rbf, total=   0.1s\n",
            "[CV] C=0.1, gamma=0.01, kernel=rbf ...................................\n",
            "[CV] .................... C=0.1, gamma=0.01, kernel=rbf, total=   0.1s\n",
            "[CV] C=0.1, gamma=0.01, kernel=rbf ...................................\n",
            "[CV] .................... C=0.1, gamma=0.01, kernel=rbf, total=   0.1s\n",
            "[CV] C=0.1, gamma=0.01, kernel=rbf ...................................\n",
            "[CV] .................... C=0.1, gamma=0.01, kernel=rbf, total=   0.1s\n",
            "[CV] C=0.1, gamma=0.01, kernel=poly ..................................\n",
            "[CV] ................... C=0.1, gamma=0.01, kernel=poly, total=   0.1s\n",
            "[CV] C=0.1, gamma=0.01, kernel=poly ..................................\n",
            "[CV] ................... C=0.1, gamma=0.01, kernel=poly, total=   0.1s\n",
            "[CV] C=0.1, gamma=0.01, kernel=poly ..................................\n",
            "[CV] ................... C=0.1, gamma=0.01, kernel=poly, total=   0.1s\n",
            "[CV] C=0.1, gamma=0.01, kernel=poly ..................................\n",
            "[CV] ................... C=0.1, gamma=0.01, kernel=poly, total=   0.1s\n",
            "[CV] C=0.1, gamma=0.01, kernel=poly ..................................\n",
            "[CV] ................... C=0.1, gamma=0.01, kernel=poly, total=   0.1s\n",
            "[CV] C=0.1, gamma=0.01, kernel=sigmoid ...............................\n",
            "[CV] ................ C=0.1, gamma=0.01, kernel=sigmoid, total=   0.1s\n",
            "[CV] C=0.1, gamma=0.01, kernel=sigmoid ...............................\n",
            "[CV] ................ C=0.1, gamma=0.01, kernel=sigmoid, total=   0.1s\n",
            "[CV] C=0.1, gamma=0.01, kernel=sigmoid ...............................\n",
            "[CV] ................ C=0.1, gamma=0.01, kernel=sigmoid, total=   0.1s\n",
            "[CV] C=0.1, gamma=0.01, kernel=sigmoid ...............................\n",
            "[CV] ................ C=0.1, gamma=0.01, kernel=sigmoid, total=   0.1s\n",
            "[CV] C=0.1, gamma=0.01, kernel=sigmoid ...............................\n",
            "[CV] ................ C=0.1, gamma=0.01, kernel=sigmoid, total=   0.1s\n",
            "[CV] C=0.1, gamma=0.01, kernel=linear ................................\n",
            "[CV] ................. C=0.1, gamma=0.01, kernel=linear, total=   0.1s\n",
            "[CV] C=0.1, gamma=0.01, kernel=linear ................................\n",
            "[CV] ................. C=0.1, gamma=0.01, kernel=linear, total=   0.1s\n",
            "[CV] C=0.1, gamma=0.01, kernel=linear ................................\n",
            "[CV] ................. C=0.1, gamma=0.01, kernel=linear, total=   0.1s\n",
            "[CV] C=0.1, gamma=0.01, kernel=linear ................................\n",
            "[CV] ................. C=0.1, gamma=0.01, kernel=linear, total=   0.1s\n",
            "[CV] C=0.1, gamma=0.01, kernel=linear ................................\n",
            "[CV] ................. C=0.1, gamma=0.01, kernel=linear, total=   0.1s\n",
            "[CV] C=0.1, gamma=0.001, kernel=rbf ..................................\n",
            "[CV] ................... C=0.1, gamma=0.001, kernel=rbf, total=   0.1s\n",
            "[CV] C=0.1, gamma=0.001, kernel=rbf ..................................\n",
            "[CV] ................... C=0.1, gamma=0.001, kernel=rbf, total=   0.1s\n",
            "[CV] C=0.1, gamma=0.001, kernel=rbf ..................................\n",
            "[CV] ................... C=0.1, gamma=0.001, kernel=rbf, total=   0.1s\n",
            "[CV] C=0.1, gamma=0.001, kernel=rbf ..................................\n",
            "[CV] ................... C=0.1, gamma=0.001, kernel=rbf, total=   0.1s\n",
            "[CV] C=0.1, gamma=0.001, kernel=rbf ..................................\n",
            "[CV] ................... C=0.1, gamma=0.001, kernel=rbf, total=   0.1s\n",
            "[CV] C=0.1, gamma=0.001, kernel=poly .................................\n",
            "[CV] .................. C=0.1, gamma=0.001, kernel=poly, total=   0.1s\n",
            "[CV] C=0.1, gamma=0.001, kernel=poly .................................\n",
            "[CV] .................. C=0.1, gamma=0.001, kernel=poly, total=   0.1s\n",
            "[CV] C=0.1, gamma=0.001, kernel=poly .................................\n",
            "[CV] .................. C=0.1, gamma=0.001, kernel=poly, total=   0.1s\n",
            "[CV] C=0.1, gamma=0.001, kernel=poly .................................\n",
            "[CV] .................. C=0.1, gamma=0.001, kernel=poly, total=   0.1s\n",
            "[CV] C=0.1, gamma=0.001, kernel=poly .................................\n",
            "[CV] .................. C=0.1, gamma=0.001, kernel=poly, total=   0.1s\n",
            "[CV] C=0.1, gamma=0.001, kernel=sigmoid ..............................\n",
            "[CV] ............... C=0.1, gamma=0.001, kernel=sigmoid, total=   0.1s\n",
            "[CV] C=0.1, gamma=0.001, kernel=sigmoid ..............................\n",
            "[CV] ............... C=0.1, gamma=0.001, kernel=sigmoid, total=   0.1s\n",
            "[CV] C=0.1, gamma=0.001, kernel=sigmoid ..............................\n",
            "[CV] ............... C=0.1, gamma=0.001, kernel=sigmoid, total=   0.1s\n",
            "[CV] C=0.1, gamma=0.001, kernel=sigmoid ..............................\n",
            "[CV] ............... C=0.1, gamma=0.001, kernel=sigmoid, total=   0.1s\n",
            "[CV] C=0.1, gamma=0.001, kernel=sigmoid ..............................\n",
            "[CV] ............... C=0.1, gamma=0.001, kernel=sigmoid, total=   0.1s\n",
            "[CV] C=0.1, gamma=0.001, kernel=linear ...............................\n",
            "[CV] ................ C=0.1, gamma=0.001, kernel=linear, total=   0.1s\n",
            "[CV] C=0.1, gamma=0.001, kernel=linear ...............................\n",
            "[CV] ................ C=0.1, gamma=0.001, kernel=linear, total=   0.1s\n",
            "[CV] C=0.1, gamma=0.001, kernel=linear ...............................\n",
            "[CV] ................ C=0.1, gamma=0.001, kernel=linear, total=   0.1s\n",
            "[CV] C=0.1, gamma=0.001, kernel=linear ...............................\n",
            "[CV] ................ C=0.1, gamma=0.001, kernel=linear, total=   0.1s\n",
            "[CV] C=0.1, gamma=0.001, kernel=linear ...............................\n",
            "[CV] ................ C=0.1, gamma=0.001, kernel=linear, total=   0.1s\n",
            "[CV] C=0.1, gamma=auto, kernel=rbf ...................................\n",
            "[CV] .................... C=0.1, gamma=auto, kernel=rbf, total=   0.1s\n",
            "[CV] C=0.1, gamma=auto, kernel=rbf ...................................\n",
            "[CV] .................... C=0.1, gamma=auto, kernel=rbf, total=   0.1s\n",
            "[CV] C=0.1, gamma=auto, kernel=rbf ...................................\n",
            "[CV] .................... C=0.1, gamma=auto, kernel=rbf, total=   0.1s\n",
            "[CV] C=0.1, gamma=auto, kernel=rbf ...................................\n",
            "[CV] .................... C=0.1, gamma=auto, kernel=rbf, total=   0.1s\n",
            "[CV] C=0.1, gamma=auto, kernel=rbf ...................................\n",
            "[CV] .................... C=0.1, gamma=auto, kernel=rbf, total=   0.1s\n",
            "[CV] C=0.1, gamma=auto, kernel=poly ..................................\n",
            "[CV] ................... C=0.1, gamma=auto, kernel=poly, total=   0.1s\n",
            "[CV] C=0.1, gamma=auto, kernel=poly ..................................\n",
            "[CV] ................... C=0.1, gamma=auto, kernel=poly, total=   0.1s\n",
            "[CV] C=0.1, gamma=auto, kernel=poly ..................................\n",
            "[CV] ................... C=0.1, gamma=auto, kernel=poly, total=   0.1s\n",
            "[CV] C=0.1, gamma=auto, kernel=poly ..................................\n",
            "[CV] ................... C=0.1, gamma=auto, kernel=poly, total=   0.1s\n",
            "[CV] C=0.1, gamma=auto, kernel=poly ..................................\n",
            "[CV] ................... C=0.1, gamma=auto, kernel=poly, total=   0.1s\n",
            "[CV] C=0.1, gamma=auto, kernel=sigmoid ...............................\n",
            "[CV] ................ C=0.1, gamma=auto, kernel=sigmoid, total=   0.1s\n",
            "[CV] C=0.1, gamma=auto, kernel=sigmoid ...............................\n",
            "[CV] ................ C=0.1, gamma=auto, kernel=sigmoid, total=   0.1s\n",
            "[CV] C=0.1, gamma=auto, kernel=sigmoid ...............................\n",
            "[CV] ................ C=0.1, gamma=auto, kernel=sigmoid, total=   0.1s\n",
            "[CV] C=0.1, gamma=auto, kernel=sigmoid ...............................\n",
            "[CV] ................ C=0.1, gamma=auto, kernel=sigmoid, total=   0.1s\n",
            "[CV] C=0.1, gamma=auto, kernel=sigmoid ...............................\n",
            "[CV] ................ C=0.1, gamma=auto, kernel=sigmoid, total=   0.1s\n",
            "[CV] C=0.1, gamma=auto, kernel=linear ................................\n",
            "[CV] ................. C=0.1, gamma=auto, kernel=linear, total=   0.1s\n",
            "[CV] C=0.1, gamma=auto, kernel=linear ................................\n",
            "[CV] ................. C=0.1, gamma=auto, kernel=linear, total=   0.1s\n",
            "[CV] C=0.1, gamma=auto, kernel=linear ................................\n",
            "[CV] ................. C=0.1, gamma=auto, kernel=linear, total=   0.1s\n",
            "[CV] C=0.1, gamma=auto, kernel=linear ................................\n",
            "[CV] ................. C=0.1, gamma=auto, kernel=linear, total=   0.1s\n",
            "[CV] C=0.1, gamma=auto, kernel=linear ................................\n",
            "[CV] ................. C=0.1, gamma=auto, kernel=linear, total=   0.1s\n",
            "[CV] C=1, gamma=1, kernel=rbf ........................................\n",
            "[CV] ......................... C=1, gamma=1, kernel=rbf, total=   0.1s\n",
            "[CV] C=1, gamma=1, kernel=rbf ........................................\n",
            "[CV] ......................... C=1, gamma=1, kernel=rbf, total=   0.1s\n",
            "[CV] C=1, gamma=1, kernel=rbf ........................................\n",
            "[CV] ......................... C=1, gamma=1, kernel=rbf, total=   0.1s\n",
            "[CV] C=1, gamma=1, kernel=rbf ........................................\n",
            "[CV] ......................... C=1, gamma=1, kernel=rbf, total=   0.1s\n",
            "[CV] C=1, gamma=1, kernel=rbf ........................................\n",
            "[CV] ......................... C=1, gamma=1, kernel=rbf, total=   0.1s\n",
            "[CV] C=1, gamma=1, kernel=poly .......................................\n",
            "[CV] ........................ C=1, gamma=1, kernel=poly, total=   0.1s\n",
            "[CV] C=1, gamma=1, kernel=poly .......................................\n",
            "[CV] ........................ C=1, gamma=1, kernel=poly, total=   0.1s\n",
            "[CV] C=1, gamma=1, kernel=poly .......................................\n",
            "[CV] ........................ C=1, gamma=1, kernel=poly, total=   0.1s\n",
            "[CV] C=1, gamma=1, kernel=poly .......................................\n",
            "[CV] ........................ C=1, gamma=1, kernel=poly, total=   0.1s\n",
            "[CV] C=1, gamma=1, kernel=poly .......................................\n",
            "[CV] ........................ C=1, gamma=1, kernel=poly, total=   0.1s\n",
            "[CV] C=1, gamma=1, kernel=sigmoid ....................................\n",
            "[CV] ..................... C=1, gamma=1, kernel=sigmoid, total=   0.2s\n",
            "[CV] C=1, gamma=1, kernel=sigmoid ....................................\n",
            "[CV] ..................... C=1, gamma=1, kernel=sigmoid, total=   0.1s\n",
            "[CV] C=1, gamma=1, kernel=sigmoid ....................................\n",
            "[CV] ..................... C=1, gamma=1, kernel=sigmoid, total=   0.1s\n",
            "[CV] C=1, gamma=1, kernel=sigmoid ....................................\n",
            "[CV] ..................... C=1, gamma=1, kernel=sigmoid, total=   0.1s\n",
            "[CV] C=1, gamma=1, kernel=sigmoid ....................................\n",
            "[CV] ..................... C=1, gamma=1, kernel=sigmoid, total=   0.1s\n",
            "[CV] C=1, gamma=1, kernel=linear .....................................\n",
            "[CV] ...................... C=1, gamma=1, kernel=linear, total=   0.1s\n",
            "[CV] C=1, gamma=1, kernel=linear .....................................\n",
            "[CV] ...................... C=1, gamma=1, kernel=linear, total=   0.1s\n",
            "[CV] C=1, gamma=1, kernel=linear .....................................\n",
            "[CV] ...................... C=1, gamma=1, kernel=linear, total=   0.1s\n",
            "[CV] C=1, gamma=1, kernel=linear .....................................\n",
            "[CV] ...................... C=1, gamma=1, kernel=linear, total=   0.1s\n",
            "[CV] C=1, gamma=1, kernel=linear .....................................\n",
            "[CV] ...................... C=1, gamma=1, kernel=linear, total=   0.1s\n",
            "[CV] C=1, gamma=0.1, kernel=rbf ......................................\n",
            "[CV] ....................... C=1, gamma=0.1, kernel=rbf, total=   0.1s\n",
            "[CV] C=1, gamma=0.1, kernel=rbf ......................................\n",
            "[CV] ....................... C=1, gamma=0.1, kernel=rbf, total=   0.1s\n",
            "[CV] C=1, gamma=0.1, kernel=rbf ......................................\n",
            "[CV] ....................... C=1, gamma=0.1, kernel=rbf, total=   0.1s\n",
            "[CV] C=1, gamma=0.1, kernel=rbf ......................................\n",
            "[CV] ....................... C=1, gamma=0.1, kernel=rbf, total=   0.1s\n",
            "[CV] C=1, gamma=0.1, kernel=rbf ......................................\n",
            "[CV] ....................... C=1, gamma=0.1, kernel=rbf, total=   0.1s\n",
            "[CV] C=1, gamma=0.1, kernel=poly .....................................\n",
            "[CV] ...................... C=1, gamma=0.1, kernel=poly, total=   0.1s\n",
            "[CV] C=1, gamma=0.1, kernel=poly .....................................\n",
            "[CV] ...................... C=1, gamma=0.1, kernel=poly, total=   0.1s\n",
            "[CV] C=1, gamma=0.1, kernel=poly .....................................\n",
            "[CV] ...................... C=1, gamma=0.1, kernel=poly, total=   0.1s\n",
            "[CV] C=1, gamma=0.1, kernel=poly .....................................\n",
            "[CV] ...................... C=1, gamma=0.1, kernel=poly, total=   0.1s\n",
            "[CV] C=1, gamma=0.1, kernel=poly .....................................\n",
            "[CV] ...................... C=1, gamma=0.1, kernel=poly, total=   0.1s\n",
            "[CV] C=1, gamma=0.1, kernel=sigmoid ..................................\n",
            "[CV] ................... C=1, gamma=0.1, kernel=sigmoid, total=   0.1s\n",
            "[CV] C=1, gamma=0.1, kernel=sigmoid ..................................\n",
            "[CV] ................... C=1, gamma=0.1, kernel=sigmoid, total=   0.1s\n",
            "[CV] C=1, gamma=0.1, kernel=sigmoid ..................................\n",
            "[CV] ................... C=1, gamma=0.1, kernel=sigmoid, total=   0.1s\n",
            "[CV] C=1, gamma=0.1, kernel=sigmoid ..................................\n",
            "[CV] ................... C=1, gamma=0.1, kernel=sigmoid, total=   0.1s\n",
            "[CV] C=1, gamma=0.1, kernel=sigmoid ..................................\n",
            "[CV] ................... C=1, gamma=0.1, kernel=sigmoid, total=   0.1s\n",
            "[CV] C=1, gamma=0.1, kernel=linear ...................................\n",
            "[CV] .................... C=1, gamma=0.1, kernel=linear, total=   0.1s\n",
            "[CV] C=1, gamma=0.1, kernel=linear ...................................\n",
            "[CV] .................... C=1, gamma=0.1, kernel=linear, total=   0.1s\n",
            "[CV] C=1, gamma=0.1, kernel=linear ...................................\n",
            "[CV] .................... C=1, gamma=0.1, kernel=linear, total=   0.1s\n",
            "[CV] C=1, gamma=0.1, kernel=linear ...................................\n",
            "[CV] .................... C=1, gamma=0.1, kernel=linear, total=   0.1s\n",
            "[CV] C=1, gamma=0.1, kernel=linear ...................................\n",
            "[CV] .................... C=1, gamma=0.1, kernel=linear, total=   0.1s\n",
            "[CV] C=1, gamma=0.01, kernel=rbf .....................................\n",
            "[CV] ...................... C=1, gamma=0.01, kernel=rbf, total=   0.1s\n",
            "[CV] C=1, gamma=0.01, kernel=rbf .....................................\n",
            "[CV] ...................... C=1, gamma=0.01, kernel=rbf, total=   0.1s\n",
            "[CV] C=1, gamma=0.01, kernel=rbf .....................................\n",
            "[CV] ...................... C=1, gamma=0.01, kernel=rbf, total=   0.1s\n",
            "[CV] C=1, gamma=0.01, kernel=rbf .....................................\n",
            "[CV] ...................... C=1, gamma=0.01, kernel=rbf, total=   0.1s\n",
            "[CV] C=1, gamma=0.01, kernel=rbf .....................................\n",
            "[CV] ...................... C=1, gamma=0.01, kernel=rbf, total=   0.1s\n",
            "[CV] C=1, gamma=0.01, kernel=poly ....................................\n",
            "[CV] ..................... C=1, gamma=0.01, kernel=poly, total=   0.1s\n",
            "[CV] C=1, gamma=0.01, kernel=poly ....................................\n",
            "[CV] ..................... C=1, gamma=0.01, kernel=poly, total=   0.1s\n",
            "[CV] C=1, gamma=0.01, kernel=poly ....................................\n",
            "[CV] ..................... C=1, gamma=0.01, kernel=poly, total=   0.1s\n",
            "[CV] C=1, gamma=0.01, kernel=poly ....................................\n",
            "[CV] ..................... C=1, gamma=0.01, kernel=poly, total=   0.1s\n",
            "[CV] C=1, gamma=0.01, kernel=poly ....................................\n",
            "[CV] ..................... C=1, gamma=0.01, kernel=poly, total=   0.1s\n",
            "[CV] C=1, gamma=0.01, kernel=sigmoid .................................\n",
            "[CV] .................. C=1, gamma=0.01, kernel=sigmoid, total=   0.1s\n",
            "[CV] C=1, gamma=0.01, kernel=sigmoid .................................\n",
            "[CV] .................. C=1, gamma=0.01, kernel=sigmoid, total=   0.1s\n",
            "[CV] C=1, gamma=0.01, kernel=sigmoid .................................\n",
            "[CV] .................. C=1, gamma=0.01, kernel=sigmoid, total=   0.1s\n",
            "[CV] C=1, gamma=0.01, kernel=sigmoid .................................\n",
            "[CV] .................. C=1, gamma=0.01, kernel=sigmoid, total=   0.1s\n",
            "[CV] C=1, gamma=0.01, kernel=sigmoid .................................\n",
            "[CV] .................. C=1, gamma=0.01, kernel=sigmoid, total=   0.1s\n",
            "[CV] C=1, gamma=0.01, kernel=linear ..................................\n",
            "[CV] ................... C=1, gamma=0.01, kernel=linear, total=   0.1s\n",
            "[CV] C=1, gamma=0.01, kernel=linear ..................................\n",
            "[CV] ................... C=1, gamma=0.01, kernel=linear, total=   0.1s\n",
            "[CV] C=1, gamma=0.01, kernel=linear ..................................\n",
            "[CV] ................... C=1, gamma=0.01, kernel=linear, total=   0.1s\n",
            "[CV] C=1, gamma=0.01, kernel=linear ..................................\n",
            "[CV] ................... C=1, gamma=0.01, kernel=linear, total=   0.1s\n",
            "[CV] C=1, gamma=0.01, kernel=linear ..................................\n",
            "[CV] ................... C=1, gamma=0.01, kernel=linear, total=   0.1s\n",
            "[CV] C=1, gamma=0.001, kernel=rbf ....................................\n",
            "[CV] ..................... C=1, gamma=0.001, kernel=rbf, total=   0.1s\n",
            "[CV] C=1, gamma=0.001, kernel=rbf ....................................\n",
            "[CV] ..................... C=1, gamma=0.001, kernel=rbf, total=   0.1s\n",
            "[CV] C=1, gamma=0.001, kernel=rbf ....................................\n",
            "[CV] ..................... C=1, gamma=0.001, kernel=rbf, total=   0.1s\n",
            "[CV] C=1, gamma=0.001, kernel=rbf ....................................\n",
            "[CV] ..................... C=1, gamma=0.001, kernel=rbf, total=   0.1s\n",
            "[CV] C=1, gamma=0.001, kernel=rbf ....................................\n",
            "[CV] ..................... C=1, gamma=0.001, kernel=rbf, total=   0.1s\n",
            "[CV] C=1, gamma=0.001, kernel=poly ...................................\n",
            "[CV] .................... C=1, gamma=0.001, kernel=poly, total=   0.1s\n",
            "[CV] C=1, gamma=0.001, kernel=poly ...................................\n",
            "[CV] .................... C=1, gamma=0.001, kernel=poly, total=   0.1s\n",
            "[CV] C=1, gamma=0.001, kernel=poly ...................................\n",
            "[CV] .................... C=1, gamma=0.001, kernel=poly, total=   0.1s\n",
            "[CV] C=1, gamma=0.001, kernel=poly ...................................\n",
            "[CV] .................... C=1, gamma=0.001, kernel=poly, total=   0.1s\n",
            "[CV] C=1, gamma=0.001, kernel=poly ...................................\n",
            "[CV] .................... C=1, gamma=0.001, kernel=poly, total=   0.1s\n",
            "[CV] C=1, gamma=0.001, kernel=sigmoid ................................\n",
            "[CV] ................. C=1, gamma=0.001, kernel=sigmoid, total=   0.1s\n",
            "[CV] C=1, gamma=0.001, kernel=sigmoid ................................\n",
            "[CV] ................. C=1, gamma=0.001, kernel=sigmoid, total=   0.1s\n",
            "[CV] C=1, gamma=0.001, kernel=sigmoid ................................\n",
            "[CV] ................. C=1, gamma=0.001, kernel=sigmoid, total=   0.1s\n",
            "[CV] C=1, gamma=0.001, kernel=sigmoid ................................\n",
            "[CV] ................. C=1, gamma=0.001, kernel=sigmoid, total=   0.1s\n",
            "[CV] C=1, gamma=0.001, kernel=sigmoid ................................\n",
            "[CV] ................. C=1, gamma=0.001, kernel=sigmoid, total=   0.1s\n",
            "[CV] C=1, gamma=0.001, kernel=linear .................................\n",
            "[CV] .................. C=1, gamma=0.001, kernel=linear, total=   0.1s\n",
            "[CV] C=1, gamma=0.001, kernel=linear .................................\n",
            "[CV] .................. C=1, gamma=0.001, kernel=linear, total=   0.1s\n",
            "[CV] C=1, gamma=0.001, kernel=linear .................................\n",
            "[CV] .................. C=1, gamma=0.001, kernel=linear, total=   0.1s\n",
            "[CV] C=1, gamma=0.001, kernel=linear .................................\n",
            "[CV] .................. C=1, gamma=0.001, kernel=linear, total=   0.1s\n",
            "[CV] C=1, gamma=0.001, kernel=linear .................................\n",
            "[CV] .................. C=1, gamma=0.001, kernel=linear, total=   0.1s\n",
            "[CV] C=1, gamma=auto, kernel=rbf .....................................\n",
            "[CV] ...................... C=1, gamma=auto, kernel=rbf, total=   0.1s\n",
            "[CV] C=1, gamma=auto, kernel=rbf .....................................\n",
            "[CV] ...................... C=1, gamma=auto, kernel=rbf, total=   0.1s\n",
            "[CV] C=1, gamma=auto, kernel=rbf .....................................\n",
            "[CV] ...................... C=1, gamma=auto, kernel=rbf, total=   0.1s\n",
            "[CV] C=1, gamma=auto, kernel=rbf .....................................\n",
            "[CV] ...................... C=1, gamma=auto, kernel=rbf, total=   0.1s\n",
            "[CV] C=1, gamma=auto, kernel=rbf .....................................\n",
            "[CV] ...................... C=1, gamma=auto, kernel=rbf, total=   0.1s\n",
            "[CV] C=1, gamma=auto, kernel=poly ....................................\n",
            "[CV] ..................... C=1, gamma=auto, kernel=poly, total=   0.1s\n",
            "[CV] C=1, gamma=auto, kernel=poly ....................................\n",
            "[CV] ..................... C=1, gamma=auto, kernel=poly, total=   0.1s\n",
            "[CV] C=1, gamma=auto, kernel=poly ....................................\n",
            "[CV] ..................... C=1, gamma=auto, kernel=poly, total=   0.1s\n",
            "[CV] C=1, gamma=auto, kernel=poly ....................................\n",
            "[CV] ..................... C=1, gamma=auto, kernel=poly, total=   0.1s\n",
            "[CV] C=1, gamma=auto, kernel=poly ....................................\n",
            "[CV] ..................... C=1, gamma=auto, kernel=poly, total=   0.1s\n",
            "[CV] C=1, gamma=auto, kernel=sigmoid .................................\n",
            "[CV] .................. C=1, gamma=auto, kernel=sigmoid, total=   0.1s\n",
            "[CV] C=1, gamma=auto, kernel=sigmoid .................................\n",
            "[CV] .................. C=1, gamma=auto, kernel=sigmoid, total=   0.1s\n",
            "[CV] C=1, gamma=auto, kernel=sigmoid .................................\n",
            "[CV] .................. C=1, gamma=auto, kernel=sigmoid, total=   0.1s\n",
            "[CV] C=1, gamma=auto, kernel=sigmoid .................................\n",
            "[CV] .................. C=1, gamma=auto, kernel=sigmoid, total=   0.1s\n",
            "[CV] C=1, gamma=auto, kernel=sigmoid .................................\n",
            "[CV] .................. C=1, gamma=auto, kernel=sigmoid, total=   0.1s\n",
            "[CV] C=1, gamma=auto, kernel=linear ..................................\n",
            "[CV] ................... C=1, gamma=auto, kernel=linear, total=   0.1s\n",
            "[CV] C=1, gamma=auto, kernel=linear ..................................\n",
            "[CV] ................... C=1, gamma=auto, kernel=linear, total=   0.1s\n",
            "[CV] C=1, gamma=auto, kernel=linear ..................................\n",
            "[CV] ................... C=1, gamma=auto, kernel=linear, total=   0.1s\n",
            "[CV] C=1, gamma=auto, kernel=linear ..................................\n",
            "[CV] ................... C=1, gamma=auto, kernel=linear, total=   0.1s\n",
            "[CV] C=1, gamma=auto, kernel=linear ..................................\n",
            "[CV] ................... C=1, gamma=auto, kernel=linear, total=   0.1s\n",
            "[CV] C=10, gamma=1, kernel=rbf .......................................\n",
            "[CV] ........................ C=10, gamma=1, kernel=rbf, total=   0.1s\n",
            "[CV] C=10, gamma=1, kernel=rbf .......................................\n",
            "[CV] ........................ C=10, gamma=1, kernel=rbf, total=   0.1s\n",
            "[CV] C=10, gamma=1, kernel=rbf .......................................\n",
            "[CV] ........................ C=10, gamma=1, kernel=rbf, total=   0.2s\n",
            "[CV] C=10, gamma=1, kernel=rbf .......................................\n",
            "[CV] ........................ C=10, gamma=1, kernel=rbf, total=   0.1s\n",
            "[CV] C=10, gamma=1, kernel=rbf .......................................\n",
            "[CV] ........................ C=10, gamma=1, kernel=rbf, total=   0.1s\n",
            "[CV] C=10, gamma=1, kernel=poly ......................................\n",
            "[CV] ....................... C=10, gamma=1, kernel=poly, total=   0.1s\n",
            "[CV] C=10, gamma=1, kernel=poly ......................................\n",
            "[CV] ....................... C=10, gamma=1, kernel=poly, total=   0.1s\n",
            "[CV] C=10, gamma=1, kernel=poly ......................................\n",
            "[CV] ....................... C=10, gamma=1, kernel=poly, total=   0.1s\n",
            "[CV] C=10, gamma=1, kernel=poly ......................................\n",
            "[CV] ....................... C=10, gamma=1, kernel=poly, total=   0.1s\n",
            "[CV] C=10, gamma=1, kernel=poly ......................................\n",
            "[CV] ....................... C=10, gamma=1, kernel=poly, total=   0.1s\n",
            "[CV] C=10, gamma=1, kernel=sigmoid ...................................\n",
            "[CV] .................... C=10, gamma=1, kernel=sigmoid, total=   0.2s\n",
            "[CV] C=10, gamma=1, kernel=sigmoid ...................................\n",
            "[CV] .................... C=10, gamma=1, kernel=sigmoid, total=   0.1s\n",
            "[CV] C=10, gamma=1, kernel=sigmoid ...................................\n",
            "[CV] .................... C=10, gamma=1, kernel=sigmoid, total=   0.1s\n",
            "[CV] C=10, gamma=1, kernel=sigmoid ...................................\n",
            "[CV] .................... C=10, gamma=1, kernel=sigmoid, total=   0.1s\n",
            "[CV] C=10, gamma=1, kernel=sigmoid ...................................\n",
            "[CV] .................... C=10, gamma=1, kernel=sigmoid, total=   0.1s\n",
            "[CV] C=10, gamma=1, kernel=linear ....................................\n",
            "[CV] ..................... C=10, gamma=1, kernel=linear, total=   0.1s\n",
            "[CV] C=10, gamma=1, kernel=linear ....................................\n",
            "[CV] ..................... C=10, gamma=1, kernel=linear, total=   0.1s\n",
            "[CV] C=10, gamma=1, kernel=linear ....................................\n",
            "[CV] ..................... C=10, gamma=1, kernel=linear, total=   0.1s\n",
            "[CV] C=10, gamma=1, kernel=linear ....................................\n",
            "[CV] ..................... C=10, gamma=1, kernel=linear, total=   0.1s\n",
            "[CV] C=10, gamma=1, kernel=linear ....................................\n",
            "[CV] ..................... C=10, gamma=1, kernel=linear, total=   0.1s\n",
            "[CV] C=10, gamma=0.1, kernel=rbf .....................................\n",
            "[CV] ...................... C=10, gamma=0.1, kernel=rbf, total=   0.1s\n",
            "[CV] C=10, gamma=0.1, kernel=rbf .....................................\n",
            "[CV] ...................... C=10, gamma=0.1, kernel=rbf, total=   0.1s\n",
            "[CV] C=10, gamma=0.1, kernel=rbf .....................................\n",
            "[CV] ...................... C=10, gamma=0.1, kernel=rbf, total=   0.1s\n",
            "[CV] C=10, gamma=0.1, kernel=rbf .....................................\n",
            "[CV] ...................... C=10, gamma=0.1, kernel=rbf, total=   0.1s\n",
            "[CV] C=10, gamma=0.1, kernel=rbf .....................................\n",
            "[CV] ...................... C=10, gamma=0.1, kernel=rbf, total=   0.1s\n",
            "[CV] C=10, gamma=0.1, kernel=poly ....................................\n",
            "[CV] ..................... C=10, gamma=0.1, kernel=poly, total=   0.1s\n",
            "[CV] C=10, gamma=0.1, kernel=poly ....................................\n",
            "[CV] ..................... C=10, gamma=0.1, kernel=poly, total=   0.1s\n",
            "[CV] C=10, gamma=0.1, kernel=poly ....................................\n",
            "[CV] ..................... C=10, gamma=0.1, kernel=poly, total=   0.1s\n",
            "[CV] C=10, gamma=0.1, kernel=poly ....................................\n",
            "[CV] ..................... C=10, gamma=0.1, kernel=poly, total=   0.1s\n",
            "[CV] C=10, gamma=0.1, kernel=poly ....................................\n",
            "[CV] ..................... C=10, gamma=0.1, kernel=poly, total=   0.1s\n",
            "[CV] C=10, gamma=0.1, kernel=sigmoid .................................\n",
            "[CV] .................. C=10, gamma=0.1, kernel=sigmoid, total=   0.1s\n",
            "[CV] C=10, gamma=0.1, kernel=sigmoid .................................\n",
            "[CV] .................. C=10, gamma=0.1, kernel=sigmoid, total=   0.1s\n",
            "[CV] C=10, gamma=0.1, kernel=sigmoid .................................\n",
            "[CV] .................. C=10, gamma=0.1, kernel=sigmoid, total=   0.1s\n",
            "[CV] C=10, gamma=0.1, kernel=sigmoid .................................\n",
            "[CV] .................. C=10, gamma=0.1, kernel=sigmoid, total=   0.1s\n",
            "[CV] C=10, gamma=0.1, kernel=sigmoid .................................\n",
            "[CV] .................. C=10, gamma=0.1, kernel=sigmoid, total=   0.1s\n",
            "[CV] C=10, gamma=0.1, kernel=linear ..................................\n",
            "[CV] ................... C=10, gamma=0.1, kernel=linear, total=   0.1s\n",
            "[CV] C=10, gamma=0.1, kernel=linear ..................................\n",
            "[CV] ................... C=10, gamma=0.1, kernel=linear, total=   0.1s\n",
            "[CV] C=10, gamma=0.1, kernel=linear ..................................\n",
            "[CV] ................... C=10, gamma=0.1, kernel=linear, total=   0.1s\n",
            "[CV] C=10, gamma=0.1, kernel=linear ..................................\n",
            "[CV] ................... C=10, gamma=0.1, kernel=linear, total=   0.1s\n",
            "[CV] C=10, gamma=0.1, kernel=linear ..................................\n",
            "[CV] ................... C=10, gamma=0.1, kernel=linear, total=   0.1s\n",
            "[CV] C=10, gamma=0.01, kernel=rbf ....................................\n",
            "[CV] ..................... C=10, gamma=0.01, kernel=rbf, total=   0.1s\n",
            "[CV] C=10, gamma=0.01, kernel=rbf ....................................\n",
            "[CV] ..................... C=10, gamma=0.01, kernel=rbf, total=   0.1s\n",
            "[CV] C=10, gamma=0.01, kernel=rbf ....................................\n",
            "[CV] ..................... C=10, gamma=0.01, kernel=rbf, total=   0.1s\n",
            "[CV] C=10, gamma=0.01, kernel=rbf ....................................\n",
            "[CV] ..................... C=10, gamma=0.01, kernel=rbf, total=   0.1s\n",
            "[CV] C=10, gamma=0.01, kernel=rbf ....................................\n",
            "[CV] ..................... C=10, gamma=0.01, kernel=rbf, total=   0.1s\n",
            "[CV] C=10, gamma=0.01, kernel=poly ...................................\n",
            "[CV] .................... C=10, gamma=0.01, kernel=poly, total=   0.1s\n",
            "[CV] C=10, gamma=0.01, kernel=poly ...................................\n",
            "[CV] .................... C=10, gamma=0.01, kernel=poly, total=   0.1s\n",
            "[CV] C=10, gamma=0.01, kernel=poly ...................................\n",
            "[CV] .................... C=10, gamma=0.01, kernel=poly, total=   0.1s\n",
            "[CV] C=10, gamma=0.01, kernel=poly ...................................\n",
            "[CV] .................... C=10, gamma=0.01, kernel=poly, total=   0.1s\n",
            "[CV] C=10, gamma=0.01, kernel=poly ...................................\n",
            "[CV] .................... C=10, gamma=0.01, kernel=poly, total=   0.1s\n",
            "[CV] C=10, gamma=0.01, kernel=sigmoid ................................\n",
            "[CV] ................. C=10, gamma=0.01, kernel=sigmoid, total=   0.1s\n",
            "[CV] C=10, gamma=0.01, kernel=sigmoid ................................\n",
            "[CV] ................. C=10, gamma=0.01, kernel=sigmoid, total=   0.1s\n",
            "[CV] C=10, gamma=0.01, kernel=sigmoid ................................\n",
            "[CV] ................. C=10, gamma=0.01, kernel=sigmoid, total=   0.1s\n",
            "[CV] C=10, gamma=0.01, kernel=sigmoid ................................\n",
            "[CV] ................. C=10, gamma=0.01, kernel=sigmoid, total=   0.1s\n",
            "[CV] C=10, gamma=0.01, kernel=sigmoid ................................\n",
            "[CV] ................. C=10, gamma=0.01, kernel=sigmoid, total=   0.1s\n",
            "[CV] C=10, gamma=0.01, kernel=linear .................................\n",
            "[CV] .................. C=10, gamma=0.01, kernel=linear, total=   0.1s\n",
            "[CV] C=10, gamma=0.01, kernel=linear .................................\n",
            "[CV] .................. C=10, gamma=0.01, kernel=linear, total=   0.1s\n",
            "[CV] C=10, gamma=0.01, kernel=linear .................................\n",
            "[CV] .................. C=10, gamma=0.01, kernel=linear, total=   0.1s\n",
            "[CV] C=10, gamma=0.01, kernel=linear .................................\n",
            "[CV] .................. C=10, gamma=0.01, kernel=linear, total=   0.1s\n",
            "[CV] C=10, gamma=0.01, kernel=linear .................................\n",
            "[CV] .................. C=10, gamma=0.01, kernel=linear, total=   0.1s\n",
            "[CV] C=10, gamma=0.001, kernel=rbf ...................................\n",
            "[CV] .................... C=10, gamma=0.001, kernel=rbf, total=   0.1s\n",
            "[CV] C=10, gamma=0.001, kernel=rbf ...................................\n",
            "[CV] .................... C=10, gamma=0.001, kernel=rbf, total=   0.1s\n",
            "[CV] C=10, gamma=0.001, kernel=rbf ...................................\n",
            "[CV] .................... C=10, gamma=0.001, kernel=rbf, total=   0.1s\n",
            "[CV] C=10, gamma=0.001, kernel=rbf ...................................\n",
            "[CV] .................... C=10, gamma=0.001, kernel=rbf, total=   0.1s\n",
            "[CV] C=10, gamma=0.001, kernel=rbf ...................................\n",
            "[CV] .................... C=10, gamma=0.001, kernel=rbf, total=   0.1s\n",
            "[CV] C=10, gamma=0.001, kernel=poly ..................................\n",
            "[CV] ................... C=10, gamma=0.001, kernel=poly, total=   0.1s\n",
            "[CV] C=10, gamma=0.001, kernel=poly ..................................\n",
            "[CV] ................... C=10, gamma=0.001, kernel=poly, total=   0.1s\n",
            "[CV] C=10, gamma=0.001, kernel=poly ..................................\n",
            "[CV] ................... C=10, gamma=0.001, kernel=poly, total=   0.1s\n",
            "[CV] C=10, gamma=0.001, kernel=poly ..................................\n",
            "[CV] ................... C=10, gamma=0.001, kernel=poly, total=   0.1s\n",
            "[CV] C=10, gamma=0.001, kernel=poly ..................................\n",
            "[CV] ................... C=10, gamma=0.001, kernel=poly, total=   0.1s\n",
            "[CV] C=10, gamma=0.001, kernel=sigmoid ...............................\n",
            "[CV] ................ C=10, gamma=0.001, kernel=sigmoid, total=   0.1s\n",
            "[CV] C=10, gamma=0.001, kernel=sigmoid ...............................\n",
            "[CV] ................ C=10, gamma=0.001, kernel=sigmoid, total=   0.1s\n",
            "[CV] C=10, gamma=0.001, kernel=sigmoid ...............................\n",
            "[CV] ................ C=10, gamma=0.001, kernel=sigmoid, total=   0.1s\n",
            "[CV] C=10, gamma=0.001, kernel=sigmoid ...............................\n",
            "[CV] ................ C=10, gamma=0.001, kernel=sigmoid, total=   0.1s\n",
            "[CV] C=10, gamma=0.001, kernel=sigmoid ...............................\n",
            "[CV] ................ C=10, gamma=0.001, kernel=sigmoid, total=   0.1s\n",
            "[CV] C=10, gamma=0.001, kernel=linear ................................\n",
            "[CV] ................. C=10, gamma=0.001, kernel=linear, total=   0.1s\n",
            "[CV] C=10, gamma=0.001, kernel=linear ................................\n",
            "[CV] ................. C=10, gamma=0.001, kernel=linear, total=   0.1s\n",
            "[CV] C=10, gamma=0.001, kernel=linear ................................\n",
            "[CV] ................. C=10, gamma=0.001, kernel=linear, total=   0.1s\n",
            "[CV] C=10, gamma=0.001, kernel=linear ................................\n",
            "[CV] ................. C=10, gamma=0.001, kernel=linear, total=   0.1s\n",
            "[CV] C=10, gamma=0.001, kernel=linear ................................\n",
            "[CV] ................. C=10, gamma=0.001, kernel=linear, total=   0.1s\n",
            "[CV] C=10, gamma=auto, kernel=rbf ....................................\n",
            "[CV] ..................... C=10, gamma=auto, kernel=rbf, total=   0.1s\n",
            "[CV] C=10, gamma=auto, kernel=rbf ....................................\n",
            "[CV] ..................... C=10, gamma=auto, kernel=rbf, total=   0.1s\n",
            "[CV] C=10, gamma=auto, kernel=rbf ....................................\n",
            "[CV] ..................... C=10, gamma=auto, kernel=rbf, total=   0.1s\n",
            "[CV] C=10, gamma=auto, kernel=rbf ....................................\n",
            "[CV] ..................... C=10, gamma=auto, kernel=rbf, total=   0.1s\n",
            "[CV] C=10, gamma=auto, kernel=rbf ....................................\n",
            "[CV] ..................... C=10, gamma=auto, kernel=rbf, total=   0.1s\n",
            "[CV] C=10, gamma=auto, kernel=poly ...................................\n",
            "[CV] .................... C=10, gamma=auto, kernel=poly, total=   0.1s\n",
            "[CV] C=10, gamma=auto, kernel=poly ...................................\n",
            "[CV] .................... C=10, gamma=auto, kernel=poly, total=   0.1s\n",
            "[CV] C=10, gamma=auto, kernel=poly ...................................\n",
            "[CV] .................... C=10, gamma=auto, kernel=poly, total=   0.1s\n",
            "[CV] C=10, gamma=auto, kernel=poly ...................................\n",
            "[CV] .................... C=10, gamma=auto, kernel=poly, total=   0.1s\n",
            "[CV] C=10, gamma=auto, kernel=poly ...................................\n",
            "[CV] .................... C=10, gamma=auto, kernel=poly, total=   0.1s\n",
            "[CV] C=10, gamma=auto, kernel=sigmoid ................................\n",
            "[CV] ................. C=10, gamma=auto, kernel=sigmoid, total=   0.1s\n",
            "[CV] C=10, gamma=auto, kernel=sigmoid ................................\n",
            "[CV] ................. C=10, gamma=auto, kernel=sigmoid, total=   0.1s\n",
            "[CV] C=10, gamma=auto, kernel=sigmoid ................................\n",
            "[CV] ................. C=10, gamma=auto, kernel=sigmoid, total=   0.1s\n",
            "[CV] C=10, gamma=auto, kernel=sigmoid ................................\n",
            "[CV] ................. C=10, gamma=auto, kernel=sigmoid, total=   0.1s\n",
            "[CV] C=10, gamma=auto, kernel=sigmoid ................................\n",
            "[CV] ................. C=10, gamma=auto, kernel=sigmoid, total=   0.1s\n",
            "[CV] C=10, gamma=auto, kernel=linear .................................\n",
            "[CV] .................. C=10, gamma=auto, kernel=linear, total=   0.1s\n",
            "[CV] C=10, gamma=auto, kernel=linear .................................\n",
            "[CV] .................. C=10, gamma=auto, kernel=linear, total=   0.1s\n",
            "[CV] C=10, gamma=auto, kernel=linear .................................\n",
            "[CV] .................. C=10, gamma=auto, kernel=linear, total=   0.1s\n",
            "[CV] C=10, gamma=auto, kernel=linear .................................\n",
            "[CV] .................. C=10, gamma=auto, kernel=linear, total=   0.1s\n",
            "[CV] C=10, gamma=auto, kernel=linear .................................\n",
            "[CV] .................. C=10, gamma=auto, kernel=linear, total=   0.1s\n",
            "[CV] C=100, gamma=1, kernel=rbf ......................................\n",
            "[CV] ....................... C=100, gamma=1, kernel=rbf, total=   0.2s\n",
            "[CV] C=100, gamma=1, kernel=rbf ......................................\n",
            "[CV] ....................... C=100, gamma=1, kernel=rbf, total=   0.2s\n",
            "[CV] C=100, gamma=1, kernel=rbf ......................................\n",
            "[CV] ....................... C=100, gamma=1, kernel=rbf, total=   0.2s\n",
            "[CV] C=100, gamma=1, kernel=rbf ......................................\n",
            "[CV] ....................... C=100, gamma=1, kernel=rbf, total=   0.2s\n",
            "[CV] C=100, gamma=1, kernel=rbf ......................................\n",
            "[CV] ....................... C=100, gamma=1, kernel=rbf, total=   0.2s\n",
            "[CV] C=100, gamma=1, kernel=poly .....................................\n",
            "[CV] ...................... C=100, gamma=1, kernel=poly, total=   0.1s\n",
            "[CV] C=100, gamma=1, kernel=poly .....................................\n",
            "[CV] ...................... C=100, gamma=1, kernel=poly, total=   0.1s\n",
            "[CV] C=100, gamma=1, kernel=poly .....................................\n",
            "[CV] ...................... C=100, gamma=1, kernel=poly, total=   0.1s\n",
            "[CV] C=100, gamma=1, kernel=poly .....................................\n",
            "[CV] ...................... C=100, gamma=1, kernel=poly, total=   0.1s\n",
            "[CV] C=100, gamma=1, kernel=poly .....................................\n",
            "[CV] ...................... C=100, gamma=1, kernel=poly, total=   0.1s\n",
            "[CV] C=100, gamma=1, kernel=sigmoid ..................................\n",
            "[CV] ................... C=100, gamma=1, kernel=sigmoid, total=   0.2s\n",
            "[CV] C=100, gamma=1, kernel=sigmoid ..................................\n",
            "[CV] ................... C=100, gamma=1, kernel=sigmoid, total=   0.2s\n",
            "[CV] C=100, gamma=1, kernel=sigmoid ..................................\n",
            "[CV] ................... C=100, gamma=1, kernel=sigmoid, total=   0.1s\n",
            "[CV] C=100, gamma=1, kernel=sigmoid ..................................\n",
            "[CV] ................... C=100, gamma=1, kernel=sigmoid, total=   0.1s\n",
            "[CV] C=100, gamma=1, kernel=sigmoid ..................................\n",
            "[CV] ................... C=100, gamma=1, kernel=sigmoid, total=   0.1s\n",
            "[CV] C=100, gamma=1, kernel=linear ...................................\n",
            "[CV] .................... C=100, gamma=1, kernel=linear, total=   0.1s\n",
            "[CV] C=100, gamma=1, kernel=linear ...................................\n",
            "[CV] .................... C=100, gamma=1, kernel=linear, total=   0.1s\n",
            "[CV] C=100, gamma=1, kernel=linear ...................................\n",
            "[CV] .................... C=100, gamma=1, kernel=linear, total=   0.1s\n",
            "[CV] C=100, gamma=1, kernel=linear ...................................\n",
            "[CV] .................... C=100, gamma=1, kernel=linear, total=   0.1s\n",
            "[CV] C=100, gamma=1, kernel=linear ...................................\n",
            "[CV] .................... C=100, gamma=1, kernel=linear, total=   0.1s\n",
            "[CV] C=100, gamma=0.1, kernel=rbf ....................................\n",
            "[CV] ..................... C=100, gamma=0.1, kernel=rbf, total=   0.1s\n",
            "[CV] C=100, gamma=0.1, kernel=rbf ....................................\n",
            "[CV] ..................... C=100, gamma=0.1, kernel=rbf, total=   0.2s\n",
            "[CV] C=100, gamma=0.1, kernel=rbf ....................................\n",
            "[CV] ..................... C=100, gamma=0.1, kernel=rbf, total=   0.2s\n",
            "[CV] C=100, gamma=0.1, kernel=rbf ....................................\n",
            "[CV] ..................... C=100, gamma=0.1, kernel=rbf, total=   0.1s\n",
            "[CV] C=100, gamma=0.1, kernel=rbf ....................................\n",
            "[CV] ..................... C=100, gamma=0.1, kernel=rbf, total=   0.1s\n",
            "[CV] C=100, gamma=0.1, kernel=poly ...................................\n",
            "[CV] .................... C=100, gamma=0.1, kernel=poly, total=   0.1s\n",
            "[CV] C=100, gamma=0.1, kernel=poly ...................................\n",
            "[CV] .................... C=100, gamma=0.1, kernel=poly, total=   0.1s\n",
            "[CV] C=100, gamma=0.1, kernel=poly ...................................\n",
            "[CV] .................... C=100, gamma=0.1, kernel=poly, total=   0.1s\n",
            "[CV] C=100, gamma=0.1, kernel=poly ...................................\n",
            "[CV] .................... C=100, gamma=0.1, kernel=poly, total=   0.1s\n",
            "[CV] C=100, gamma=0.1, kernel=poly ...................................\n",
            "[CV] .................... C=100, gamma=0.1, kernel=poly, total=   0.1s\n",
            "[CV] C=100, gamma=0.1, kernel=sigmoid ................................\n",
            "[CV] ................. C=100, gamma=0.1, kernel=sigmoid, total=   0.1s\n",
            "[CV] C=100, gamma=0.1, kernel=sigmoid ................................\n",
            "[CV] ................. C=100, gamma=0.1, kernel=sigmoid, total=   0.1s\n",
            "[CV] C=100, gamma=0.1, kernel=sigmoid ................................\n",
            "[CV] ................. C=100, gamma=0.1, kernel=sigmoid, total=   0.2s\n",
            "[CV] C=100, gamma=0.1, kernel=sigmoid ................................\n",
            "[CV] ................. C=100, gamma=0.1, kernel=sigmoid, total=   0.1s\n",
            "[CV] C=100, gamma=0.1, kernel=sigmoid ................................\n",
            "[CV] ................. C=100, gamma=0.1, kernel=sigmoid, total=   0.1s\n",
            "[CV] C=100, gamma=0.1, kernel=linear .................................\n",
            "[CV] .................. C=100, gamma=0.1, kernel=linear, total=   0.1s\n",
            "[CV] C=100, gamma=0.1, kernel=linear .................................\n",
            "[CV] .................. C=100, gamma=0.1, kernel=linear, total=   0.1s\n",
            "[CV] C=100, gamma=0.1, kernel=linear .................................\n",
            "[CV] .................. C=100, gamma=0.1, kernel=linear, total=   0.1s\n",
            "[CV] C=100, gamma=0.1, kernel=linear .................................\n",
            "[CV] .................. C=100, gamma=0.1, kernel=linear, total=   0.1s\n",
            "[CV] C=100, gamma=0.1, kernel=linear .................................\n",
            "[CV] .................. C=100, gamma=0.1, kernel=linear, total=   0.1s\n",
            "[CV] C=100, gamma=0.01, kernel=rbf ...................................\n",
            "[CV] .................... C=100, gamma=0.01, kernel=rbf, total=   0.1s\n",
            "[CV] C=100, gamma=0.01, kernel=rbf ...................................\n",
            "[CV] .................... C=100, gamma=0.01, kernel=rbf, total=   0.1s\n",
            "[CV] C=100, gamma=0.01, kernel=rbf ...................................\n",
            "[CV] .................... C=100, gamma=0.01, kernel=rbf, total=   0.2s\n",
            "[CV] C=100, gamma=0.01, kernel=rbf ...................................\n",
            "[CV] .................... C=100, gamma=0.01, kernel=rbf, total=   0.1s\n",
            "[CV] C=100, gamma=0.01, kernel=rbf ...................................\n",
            "[CV] .................... C=100, gamma=0.01, kernel=rbf, total=   0.1s\n",
            "[CV] C=100, gamma=0.01, kernel=poly ..................................\n",
            "[CV] ................... C=100, gamma=0.01, kernel=poly, total=   0.1s\n",
            "[CV] C=100, gamma=0.01, kernel=poly ..................................\n",
            "[CV] ................... C=100, gamma=0.01, kernel=poly, total=   0.1s\n",
            "[CV] C=100, gamma=0.01, kernel=poly ..................................\n",
            "[CV] ................... C=100, gamma=0.01, kernel=poly, total=   0.1s\n",
            "[CV] C=100, gamma=0.01, kernel=poly ..................................\n",
            "[CV] ................... C=100, gamma=0.01, kernel=poly, total=   0.1s\n",
            "[CV] C=100, gamma=0.01, kernel=poly ..................................\n",
            "[CV] ................... C=100, gamma=0.01, kernel=poly, total=   0.1s\n",
            "[CV] C=100, gamma=0.01, kernel=sigmoid ...............................\n",
            "[CV] ................ C=100, gamma=0.01, kernel=sigmoid, total=   0.1s\n",
            "[CV] C=100, gamma=0.01, kernel=sigmoid ...............................\n",
            "[CV] ................ C=100, gamma=0.01, kernel=sigmoid, total=   0.1s\n",
            "[CV] C=100, gamma=0.01, kernel=sigmoid ...............................\n",
            "[CV] ................ C=100, gamma=0.01, kernel=sigmoid, total=   0.1s\n",
            "[CV] C=100, gamma=0.01, kernel=sigmoid ...............................\n",
            "[CV] ................ C=100, gamma=0.01, kernel=sigmoid, total=   0.1s\n",
            "[CV] C=100, gamma=0.01, kernel=sigmoid ...............................\n",
            "[CV] ................ C=100, gamma=0.01, kernel=sigmoid, total=   0.1s\n",
            "[CV] C=100, gamma=0.01, kernel=linear ................................\n",
            "[CV] ................. C=100, gamma=0.01, kernel=linear, total=   0.1s\n",
            "[CV] C=100, gamma=0.01, kernel=linear ................................\n",
            "[CV] ................. C=100, gamma=0.01, kernel=linear, total=   0.1s\n",
            "[CV] C=100, gamma=0.01, kernel=linear ................................\n",
            "[CV] ................. C=100, gamma=0.01, kernel=linear, total=   0.1s\n",
            "[CV] C=100, gamma=0.01, kernel=linear ................................\n",
            "[CV] ................. C=100, gamma=0.01, kernel=linear, total=   0.1s\n",
            "[CV] C=100, gamma=0.01, kernel=linear ................................\n",
            "[CV] ................. C=100, gamma=0.01, kernel=linear, total=   0.1s\n",
            "[CV] C=100, gamma=0.001, kernel=rbf ..................................\n",
            "[CV] ................... C=100, gamma=0.001, kernel=rbf, total=   0.1s\n",
            "[CV] C=100, gamma=0.001, kernel=rbf ..................................\n",
            "[CV] ................... C=100, gamma=0.001, kernel=rbf, total=   0.1s\n",
            "[CV] C=100, gamma=0.001, kernel=rbf ..................................\n",
            "[CV] ................... C=100, gamma=0.001, kernel=rbf, total=   0.1s\n",
            "[CV] C=100, gamma=0.001, kernel=rbf ..................................\n",
            "[CV] ................... C=100, gamma=0.001, kernel=rbf, total=   0.1s\n",
            "[CV] C=100, gamma=0.001, kernel=rbf ..................................\n",
            "[CV] ................... C=100, gamma=0.001, kernel=rbf, total=   0.1s\n",
            "[CV] C=100, gamma=0.001, kernel=poly .................................\n",
            "[CV] .................. C=100, gamma=0.001, kernel=poly, total=   0.1s\n",
            "[CV] C=100, gamma=0.001, kernel=poly .................................\n",
            "[CV] .................. C=100, gamma=0.001, kernel=poly, total=   0.1s\n",
            "[CV] C=100, gamma=0.001, kernel=poly .................................\n",
            "[CV] .................. C=100, gamma=0.001, kernel=poly, total=   0.1s\n",
            "[CV] C=100, gamma=0.001, kernel=poly .................................\n",
            "[CV] .................. C=100, gamma=0.001, kernel=poly, total=   0.1s\n",
            "[CV] C=100, gamma=0.001, kernel=poly .................................\n",
            "[CV] .................. C=100, gamma=0.001, kernel=poly, total=   0.1s\n",
            "[CV] C=100, gamma=0.001, kernel=sigmoid ..............................\n",
            "[CV] ............... C=100, gamma=0.001, kernel=sigmoid, total=   0.1s\n",
            "[CV] C=100, gamma=0.001, kernel=sigmoid ..............................\n",
            "[CV] ............... C=100, gamma=0.001, kernel=sigmoid, total=   0.1s\n",
            "[CV] C=100, gamma=0.001, kernel=sigmoid ..............................\n",
            "[CV] ............... C=100, gamma=0.001, kernel=sigmoid, total=   0.1s\n",
            "[CV] C=100, gamma=0.001, kernel=sigmoid ..............................\n",
            "[CV] ............... C=100, gamma=0.001, kernel=sigmoid, total=   0.1s\n",
            "[CV] C=100, gamma=0.001, kernel=sigmoid ..............................\n",
            "[CV] ............... C=100, gamma=0.001, kernel=sigmoid, total=   0.1s\n",
            "[CV] C=100, gamma=0.001, kernel=linear ...............................\n",
            "[CV] ................ C=100, gamma=0.001, kernel=linear, total=   0.1s\n",
            "[CV] C=100, gamma=0.001, kernel=linear ...............................\n",
            "[CV] ................ C=100, gamma=0.001, kernel=linear, total=   0.1s\n",
            "[CV] C=100, gamma=0.001, kernel=linear ...............................\n",
            "[CV] ................ C=100, gamma=0.001, kernel=linear, total=   0.1s\n",
            "[CV] C=100, gamma=0.001, kernel=linear ...............................\n",
            "[CV] ................ C=100, gamma=0.001, kernel=linear, total=   0.1s\n",
            "[CV] C=100, gamma=0.001, kernel=linear ...............................\n",
            "[CV] ................ C=100, gamma=0.001, kernel=linear, total=   0.1s\n",
            "[CV] C=100, gamma=auto, kernel=rbf ...................................\n",
            "[CV] .................... C=100, gamma=auto, kernel=rbf, total=   0.1s\n",
            "[CV] C=100, gamma=auto, kernel=rbf ...................................\n",
            "[CV] .................... C=100, gamma=auto, kernel=rbf, total=   0.1s\n",
            "[CV] C=100, gamma=auto, kernel=rbf ...................................\n",
            "[CV] .................... C=100, gamma=auto, kernel=rbf, total=   0.2s\n",
            "[CV] C=100, gamma=auto, kernel=rbf ...................................\n",
            "[CV] .................... C=100, gamma=auto, kernel=rbf, total=   0.1s\n",
            "[CV] C=100, gamma=auto, kernel=rbf ...................................\n",
            "[CV] .................... C=100, gamma=auto, kernel=rbf, total=   0.1s\n",
            "[CV] C=100, gamma=auto, kernel=poly ..................................\n",
            "[CV] ................... C=100, gamma=auto, kernel=poly, total=   0.1s\n",
            "[CV] C=100, gamma=auto, kernel=poly ..................................\n",
            "[CV] ................... C=100, gamma=auto, kernel=poly, total=   0.1s\n",
            "[CV] C=100, gamma=auto, kernel=poly ..................................\n",
            "[CV] ................... C=100, gamma=auto, kernel=poly, total=   0.1s\n",
            "[CV] C=100, gamma=auto, kernel=poly ..................................\n",
            "[CV] ................... C=100, gamma=auto, kernel=poly, total=   0.1s\n",
            "[CV] C=100, gamma=auto, kernel=poly ..................................\n",
            "[CV] ................... C=100, gamma=auto, kernel=poly, total=   0.1s\n",
            "[CV] C=100, gamma=auto, kernel=sigmoid ...............................\n",
            "[CV] ................ C=100, gamma=auto, kernel=sigmoid, total=   0.1s\n",
            "[CV] C=100, gamma=auto, kernel=sigmoid ...............................\n",
            "[CV] ................ C=100, gamma=auto, kernel=sigmoid, total=   0.1s\n",
            "[CV] C=100, gamma=auto, kernel=sigmoid ...............................\n",
            "[CV] ................ C=100, gamma=auto, kernel=sigmoid, total=   0.1s\n",
            "[CV] C=100, gamma=auto, kernel=sigmoid ...............................\n",
            "[CV] ................ C=100, gamma=auto, kernel=sigmoid, total=   0.1s\n",
            "[CV] C=100, gamma=auto, kernel=sigmoid ...............................\n",
            "[CV] ................ C=100, gamma=auto, kernel=sigmoid, total=   0.1s\n",
            "[CV] C=100, gamma=auto, kernel=linear ................................\n",
            "[CV] ................. C=100, gamma=auto, kernel=linear, total=   0.1s\n",
            "[CV] C=100, gamma=auto, kernel=linear ................................\n",
            "[CV] ................. C=100, gamma=auto, kernel=linear, total=   0.1s\n",
            "[CV] C=100, gamma=auto, kernel=linear ................................\n",
            "[CV] ................. C=100, gamma=auto, kernel=linear, total=   0.1s\n",
            "[CV] C=100, gamma=auto, kernel=linear ................................\n",
            "[CV] ................. C=100, gamma=auto, kernel=linear, total=   0.1s\n",
            "[CV] C=100, gamma=auto, kernel=linear ................................\n",
            "[CV] ................. C=100, gamma=auto, kernel=linear, total=   0.1s\n"
          ],
          "name": "stdout"
        },
        {
          "output_type": "stream",
          "text": [
            "[Parallel(n_jobs=1)]: Done 400 out of 400 | elapsed:   44.0s finished\n"
          ],
          "name": "stderr"
        },
        {
          "output_type": "execute_result",
          "data": {
            "text/plain": [
              "GridSearchCV(cv=None, error_score=nan,\n",
              "             estimator=SVC(C=1.0, break_ties=False, cache_size=200,\n",
              "                           class_weight=None, coef0=0.0,\n",
              "                           decision_function_shape='ovr', degree=3,\n",
              "                           gamma='scale', kernel='rbf', max_iter=-1,\n",
              "                           probability=False, random_state=None, shrinking=True,\n",
              "                           tol=0.001, verbose=False),\n",
              "             iid='deprecated', n_jobs=None,\n",
              "             param_grid={'C': [0.1, 1, 10, 100],\n",
              "                         'gamma': [1, 0.1, 0.01, 0.001, 'auto'],\n",
              "                         'kernel': ['rbf', 'poly', 'sigmoid', 'linear']},\n",
              "             pre_dispatch='2*n_jobs', refit=True, return_train_score=False,\n",
              "             scoring=None, verbose=2)"
            ]
          },
          "metadata": {
            "tags": []
          },
          "execution_count": 82
        }
      ]
    },
    {
      "cell_type": "code",
      "metadata": {
        "colab": {
          "base_uri": "https://localhost:8080/"
        },
        "id": "ZiAkZa4Q0xp3",
        "outputId": "04e04db3-d2d7-43c9-ad32-d2e77b652e1f"
      },
      "source": [
        "print(grid.best_estimator_)\n",
        "grid_predictions = grid.predict(X_test_emb)"
      ],
      "execution_count": 83,
      "outputs": [
        {
          "output_type": "stream",
          "text": [
            "SVC(C=10, break_ties=False, cache_size=200, class_weight=None, coef0=0.0,\n",
            "    decision_function_shape='ovr', degree=3, gamma=1, kernel='rbf', max_iter=-1,\n",
            "    probability=False, random_state=None, shrinking=True, tol=0.001,\n",
            "    verbose=False)\n"
          ],
          "name": "stdout"
        }
      ]
    },
    {
      "cell_type": "code",
      "metadata": {
        "colab": {
          "base_uri": "https://localhost:8080/"
        },
        "id": "gMSTk7ay0xp3",
        "outputId": "08679d0c-bfae-42a3-a353-5e825517ea86"
      },
      "source": [
        "print(f1_score(list(1-grid_predictions), 1-np.array(y_test)))\n",
        "np.mean(grid_predictions == y_test)"
      ],
      "execution_count": 84,
      "outputs": [
        {
          "output_type": "stream",
          "text": [
            "0.0\n"
          ],
          "name": "stdout"
        },
        {
          "output_type": "execute_result",
          "data": {
            "text/plain": [
              "0.9036796536796536"
            ]
          },
          "metadata": {
            "tags": []
          },
          "execution_count": 84
        }
      ]
    },
    {
      "cell_type": "markdown",
      "metadata": {
        "id": "f3CTWHhR0xp4"
      },
      "source": [
        "The model here seems to be too simple and canno't find any link between the FastText embeddings and the user opinion. Despite trying to fix this, we did not find any parameters that make the SVC useful."
      ]
    },
    {
      "cell_type": "markdown",
      "metadata": {
        "id": "ZzqMI21b0xp4"
      },
      "source": [
        "## Conclusion and future work.\n",
        "\n",
        "So far, the classical model showed interesting results in which we could dig a little deeper to test out more complex algorithms such as neural networks with cross-validation. Yet, the utilization of a FastText embedding did not yield any interesting results as models seem to be too simple to handle the data structure inherited from this model hence why future work could consist of testing out harder models and if it still fails to deliver interesting results, change the way we embed the sentences by using ever word2vec or Glove or any similar algorithm."
      ]
    }
  ]
}